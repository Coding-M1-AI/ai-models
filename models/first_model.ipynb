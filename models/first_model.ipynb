{
 "cells": [
  {
   "metadata": {
    "ExecuteTime": {
     "end_time": "2025-10-31T13:14:07.822688Z",
     "start_time": "2025-10-31T13:14:07.816012Z"
    }
   },
   "cell_type": "code",
   "source": [
    "import pandas as pd\n",
    "import plotly.express as px\n",
    "from sklearn.model_selection import train_test_split\n",
    "from sklearn.compose import ColumnTransformer\n",
    "from sklearn.preprocessing import StandardScaler\n",
    "from category_encoders import OrdinalEncoder\n",
    "from sklearn.pipeline import Pipeline\n",
    "from sklearn.ensemble import RandomForestRegressor\n",
    "from sklearn.metrics import mean_absolute_error, r2_score"
   ],
   "id": "116e46afc39cda3f",
   "outputs": [],
   "execution_count": 461
  },
  {
   "metadata": {
    "ExecuteTime": {
     "end_time": "2025-10-31T13:14:18.084533Z",
     "start_time": "2025-10-31T13:14:07.829127Z"
    }
   },
   "cell_type": "code",
   "source": "raw_df = pd.read_csv(\"../files/flights.csv\", low_memory=False)",
   "id": "2041023175e5b641",
   "outputs": [],
   "execution_count": 462
  },
  {
   "metadata": {
    "ExecuteTime": {
     "end_time": "2025-10-31T13:14:18.623705Z",
     "start_time": "2025-10-31T13:14:18.089210Z"
    }
   },
   "cell_type": "code",
   "source": [
    "# Remove rows with missing ARRIVAL_DELAY values\n",
    "df = raw_df[raw_df.ARRIVAL_DELAY.isna() == False]"
   ],
   "id": "6c7a5864b684333d",
   "outputs": [],
   "execution_count": 463
  },
  {
   "metadata": {
    "ExecuteTime": {
     "end_time": "2025-10-31T13:14:18.859227Z",
     "start_time": "2025-10-31T13:14:18.631909Z"
    }
   },
   "cell_type": "code",
   "source": [
    "# Keep only necessary columns\n",
    "# cols = [\"MONTH\", \"DAY\", \"DAY_OF_WEEK\", \"AIRLINE\", \"ORIGIN_AIRPORT\", \"DESTINATION_AIRPORT\", \"SCHEDULED_DEPARTURE\", \"DEPARTURE_DELAY\", \"SCHEDULED_ARRIVAL\", \"ARRIVAL_DELAY\", \"DISTANCE\"]\n",
    "cols = [\"AIRLINE\", \"ORIGIN_AIRPORT\", \"DESTINATION_AIRPORT\", \"DEPARTURE_DELAY\", \"ARRIVAL_DELAY\"]\n",
    "df = df[cols]"
   ],
   "id": "f80c25c1d67ed7bc",
   "outputs": [],
   "execution_count": 464
  },
  {
   "metadata": {
    "ExecuteTime": {
     "end_time": "2025-10-31T13:14:19.116473Z",
     "start_time": "2025-10-31T13:14:18.869800Z"
    }
   },
   "cell_type": "code",
   "source": [
    "# Get 10k random samples\n",
    "df = df.sample(n=10000, random_state=42)\n",
    "print(df.shape)"
   ],
   "id": "a5d69d48664d000c",
   "outputs": [
    {
     "name": "stdout",
     "output_type": "stream",
     "text": [
      "(10000, 5)\n"
     ]
    }
   ],
   "execution_count": 465
  },
  {
   "metadata": {
    "ExecuteTime": {
     "end_time": "2025-10-31T13:14:19.128448Z",
     "start_time": "2025-10-31T13:14:19.124556Z"
    }
   },
   "cell_type": "code",
   "source": [
    "# fig = px.histogram(df, x=df.MONTH, y=\"ARRIVAL_DELAY\")\n",
    "# fig.show();"
   ],
   "id": "14741ea63a2d2cb0",
   "outputs": [],
   "execution_count": 466
  },
  {
   "metadata": {
    "ExecuteTime": {
     "end_time": "2025-10-31T13:14:19.198241Z",
     "start_time": "2025-10-31T13:14:19.133816Z"
    }
   },
   "cell_type": "code",
   "source": [
    "X = df.drop(\"ARRIVAL_DELAY\", axis=1)\n",
    "y = df[\"ARRIVAL_DELAY\"]"
   ],
   "id": "52e0f130bca7da1f",
   "outputs": [],
   "execution_count": 467
  },
  {
   "metadata": {
    "ExecuteTime": {
     "end_time": "2025-10-31T13:14:19.208982Z",
     "start_time": "2025-10-31T13:14:19.206335Z"
    }
   },
   "cell_type": "code",
   "source": [
    "categorical_features = [\"AIRLINE\", \"ORIGIN_AIRPORT\", \"DESTINATION_AIRPORT\"]\n",
    "numeric_features = [c for c in X.columns if c not in categorical_features]"
   ],
   "id": "99f5fdf5794c06ba",
   "outputs": [],
   "execution_count": 468
  },
  {
   "metadata": {
    "ExecuteTime": {
     "end_time": "2025-10-31T13:14:19.218839Z",
     "start_time": "2025-10-31T13:14:19.214598Z"
    }
   },
   "cell_type": "code",
   "source": [
    "# Pipelines\n",
    "numeric_transformer = Pipeline(steps=[\n",
    "    (\"scaler\", StandardScaler())\n",
    "])\n",
    "\n",
    "categorical_transformer = Pipeline(steps=[\n",
    "    (\"encoder\", OrdinalEncoder(cols=categorical_features))\n",
    "])\n",
    "\n",
    "preprocessor = ColumnTransformer(\n",
    "    transformers=[\n",
    "        (\"num\", numeric_transformer, numeric_features),\n",
    "        (\"cat\", categorical_transformer, categorical_features),\n",
    "    ]\n",
    ")\n",
    "\n",
    "model = Pipeline([\n",
    "    (\"preprocess\", preprocessor),\n",
    "    (\"rf\", RandomForestRegressor(\n",
    "        n_estimators=100, # Tree number\n",
    "        random_state=0,\n",
    "        max_features=4,\n",
    "        max_depth=5, # Node number\n",
    "    ))\n",
    "])"
   ],
   "id": "55c3c206bdb1c929",
   "outputs": [],
   "execution_count": 469
  },
  {
   "metadata": {
    "ExecuteTime": {
     "end_time": "2025-10-31T13:14:19.228258Z",
     "start_time": "2025-10-31T13:14:19.222975Z"
    }
   },
   "cell_type": "code",
   "source": "X_train, X_test, y_train, y_test = train_test_split(X, y, test_size=0.33, random_state=42)",
   "id": "aef8306bc2582b70",
   "outputs": [],
   "execution_count": 470
  },
  {
   "metadata": {
    "ExecuteTime": {
     "end_time": "2025-10-31T13:14:21.021794Z",
     "start_time": "2025-10-31T13:14:19.244750Z"
    }
   },
   "cell_type": "code",
   "source": [
    "# Train\n",
    "model.fit(X_train, y_train)"
   ],
   "id": "d2a5e1176c01a70d",
   "outputs": [
    {
     "data": {
      "text/plain": [
       "Pipeline(steps=[('preprocess',\n",
       "                 ColumnTransformer(transformers=[('num',\n",
       "                                                  Pipeline(steps=[('scaler',\n",
       "                                                                   StandardScaler())]),\n",
       "                                                  ['DEPARTURE_DELAY']),\n",
       "                                                 ('cat',\n",
       "                                                  Pipeline(steps=[('encoder',\n",
       "                                                                   OrdinalEncoder(cols=['AIRLINE',\n",
       "                                                                                        'ORIGIN_AIRPORT',\n",
       "                                                                                        'DESTINATION_AIRPORT']))]),\n",
       "                                                  ['AIRLINE', 'ORIGIN_AIRPORT',\n",
       "                                                   'DESTINATION_AIRPORT'])])),\n",
       "                ('rf',\n",
       "                 RandomForestRegressor(max_depth=5, max_features=4,\n",
       "                                       n_estimators=500, random_state=0))])"
      ],
      "text/html": [
       "<style>#sk-container-id-29 {\n",
       "  /* Definition of color scheme common for light and dark mode */\n",
       "  --sklearn-color-text: #000;\n",
       "  --sklearn-color-text-muted: #666;\n",
       "  --sklearn-color-line: gray;\n",
       "  /* Definition of color scheme for unfitted estimators */\n",
       "  --sklearn-color-unfitted-level-0: #fff5e6;\n",
       "  --sklearn-color-unfitted-level-1: #f6e4d2;\n",
       "  --sklearn-color-unfitted-level-2: #ffe0b3;\n",
       "  --sklearn-color-unfitted-level-3: chocolate;\n",
       "  /* Definition of color scheme for fitted estimators */\n",
       "  --sklearn-color-fitted-level-0: #f0f8ff;\n",
       "  --sklearn-color-fitted-level-1: #d4ebff;\n",
       "  --sklearn-color-fitted-level-2: #b3dbfd;\n",
       "  --sklearn-color-fitted-level-3: cornflowerblue;\n",
       "\n",
       "  /* Specific color for light theme */\n",
       "  --sklearn-color-text-on-default-background: var(--sg-text-color, var(--theme-code-foreground, var(--jp-content-font-color1, black)));\n",
       "  --sklearn-color-background: var(--sg-background-color, var(--theme-background, var(--jp-layout-color0, white)));\n",
       "  --sklearn-color-border-box: var(--sg-text-color, var(--theme-code-foreground, var(--jp-content-font-color1, black)));\n",
       "  --sklearn-color-icon: #696969;\n",
       "\n",
       "  @media (prefers-color-scheme: dark) {\n",
       "    /* Redefinition of color scheme for dark theme */\n",
       "    --sklearn-color-text-on-default-background: var(--sg-text-color, var(--theme-code-foreground, var(--jp-content-font-color1, white)));\n",
       "    --sklearn-color-background: var(--sg-background-color, var(--theme-background, var(--jp-layout-color0, #111)));\n",
       "    --sklearn-color-border-box: var(--sg-text-color, var(--theme-code-foreground, var(--jp-content-font-color1, white)));\n",
       "    --sklearn-color-icon: #878787;\n",
       "  }\n",
       "}\n",
       "\n",
       "#sk-container-id-29 {\n",
       "  color: var(--sklearn-color-text);\n",
       "}\n",
       "\n",
       "#sk-container-id-29 pre {\n",
       "  padding: 0;\n",
       "}\n",
       "\n",
       "#sk-container-id-29 input.sk-hidden--visually {\n",
       "  border: 0;\n",
       "  clip: rect(1px 1px 1px 1px);\n",
       "  clip: rect(1px, 1px, 1px, 1px);\n",
       "  height: 1px;\n",
       "  margin: -1px;\n",
       "  overflow: hidden;\n",
       "  padding: 0;\n",
       "  position: absolute;\n",
       "  width: 1px;\n",
       "}\n",
       "\n",
       "#sk-container-id-29 div.sk-dashed-wrapped {\n",
       "  border: 1px dashed var(--sklearn-color-line);\n",
       "  margin: 0 0.4em 0.5em 0.4em;\n",
       "  box-sizing: border-box;\n",
       "  padding-bottom: 0.4em;\n",
       "  background-color: var(--sklearn-color-background);\n",
       "}\n",
       "\n",
       "#sk-container-id-29 div.sk-container {\n",
       "  /* jupyter's `normalize.less` sets `[hidden] { display: none; }`\n",
       "     but bootstrap.min.css set `[hidden] { display: none !important; }`\n",
       "     so we also need the `!important` here to be able to override the\n",
       "     default hidden behavior on the sphinx rendered scikit-learn.org.\n",
       "     See: https://github.com/scikit-learn/scikit-learn/issues/21755 */\n",
       "  display: inline-block !important;\n",
       "  position: relative;\n",
       "}\n",
       "\n",
       "#sk-container-id-29 div.sk-text-repr-fallback {\n",
       "  display: none;\n",
       "}\n",
       "\n",
       "div.sk-parallel-item,\n",
       "div.sk-serial,\n",
       "div.sk-item {\n",
       "  /* draw centered vertical line to link estimators */\n",
       "  background-image: linear-gradient(var(--sklearn-color-text-on-default-background), var(--sklearn-color-text-on-default-background));\n",
       "  background-size: 2px 100%;\n",
       "  background-repeat: no-repeat;\n",
       "  background-position: center center;\n",
       "}\n",
       "\n",
       "/* Parallel-specific style estimator block */\n",
       "\n",
       "#sk-container-id-29 div.sk-parallel-item::after {\n",
       "  content: \"\";\n",
       "  width: 100%;\n",
       "  border-bottom: 2px solid var(--sklearn-color-text-on-default-background);\n",
       "  flex-grow: 1;\n",
       "}\n",
       "\n",
       "#sk-container-id-29 div.sk-parallel {\n",
       "  display: flex;\n",
       "  align-items: stretch;\n",
       "  justify-content: center;\n",
       "  background-color: var(--sklearn-color-background);\n",
       "  position: relative;\n",
       "}\n",
       "\n",
       "#sk-container-id-29 div.sk-parallel-item {\n",
       "  display: flex;\n",
       "  flex-direction: column;\n",
       "}\n",
       "\n",
       "#sk-container-id-29 div.sk-parallel-item:first-child::after {\n",
       "  align-self: flex-end;\n",
       "  width: 50%;\n",
       "}\n",
       "\n",
       "#sk-container-id-29 div.sk-parallel-item:last-child::after {\n",
       "  align-self: flex-start;\n",
       "  width: 50%;\n",
       "}\n",
       "\n",
       "#sk-container-id-29 div.sk-parallel-item:only-child::after {\n",
       "  width: 0;\n",
       "}\n",
       "\n",
       "/* Serial-specific style estimator block */\n",
       "\n",
       "#sk-container-id-29 div.sk-serial {\n",
       "  display: flex;\n",
       "  flex-direction: column;\n",
       "  align-items: center;\n",
       "  background-color: var(--sklearn-color-background);\n",
       "  padding-right: 1em;\n",
       "  padding-left: 1em;\n",
       "}\n",
       "\n",
       "\n",
       "/* Toggleable style: style used for estimator/Pipeline/ColumnTransformer box that is\n",
       "clickable and can be expanded/collapsed.\n",
       "- Pipeline and ColumnTransformer use this feature and define the default style\n",
       "- Estimators will overwrite some part of the style using the `sk-estimator` class\n",
       "*/\n",
       "\n",
       "/* Pipeline and ColumnTransformer style (default) */\n",
       "\n",
       "#sk-container-id-29 div.sk-toggleable {\n",
       "  /* Default theme specific background. It is overwritten whether we have a\n",
       "  specific estimator or a Pipeline/ColumnTransformer */\n",
       "  background-color: var(--sklearn-color-background);\n",
       "}\n",
       "\n",
       "/* Toggleable label */\n",
       "#sk-container-id-29 label.sk-toggleable__label {\n",
       "  cursor: pointer;\n",
       "  display: flex;\n",
       "  width: 100%;\n",
       "  margin-bottom: 0;\n",
       "  padding: 0.5em;\n",
       "  box-sizing: border-box;\n",
       "  text-align: center;\n",
       "  align-items: start;\n",
       "  justify-content: space-between;\n",
       "  gap: 0.5em;\n",
       "}\n",
       "\n",
       "#sk-container-id-29 label.sk-toggleable__label .caption {\n",
       "  font-size: 0.6rem;\n",
       "  font-weight: lighter;\n",
       "  color: var(--sklearn-color-text-muted);\n",
       "}\n",
       "\n",
       "#sk-container-id-29 label.sk-toggleable__label-arrow:before {\n",
       "  /* Arrow on the left of the label */\n",
       "  content: \"▸\";\n",
       "  float: left;\n",
       "  margin-right: 0.25em;\n",
       "  color: var(--sklearn-color-icon);\n",
       "}\n",
       "\n",
       "#sk-container-id-29 label.sk-toggleable__label-arrow:hover:before {\n",
       "  color: var(--sklearn-color-text);\n",
       "}\n",
       "\n",
       "/* Toggleable content - dropdown */\n",
       "\n",
       "#sk-container-id-29 div.sk-toggleable__content {\n",
       "  display: none;\n",
       "  text-align: left;\n",
       "  /* unfitted */\n",
       "  background-color: var(--sklearn-color-unfitted-level-0);\n",
       "}\n",
       "\n",
       "#sk-container-id-29 div.sk-toggleable__content.fitted {\n",
       "  /* fitted */\n",
       "  background-color: var(--sklearn-color-fitted-level-0);\n",
       "}\n",
       "\n",
       "#sk-container-id-29 div.sk-toggleable__content pre {\n",
       "  margin: 0.2em;\n",
       "  border-radius: 0.25em;\n",
       "  color: var(--sklearn-color-text);\n",
       "  /* unfitted */\n",
       "  background-color: var(--sklearn-color-unfitted-level-0);\n",
       "}\n",
       "\n",
       "#sk-container-id-29 div.sk-toggleable__content.fitted pre {\n",
       "  /* unfitted */\n",
       "  background-color: var(--sklearn-color-fitted-level-0);\n",
       "}\n",
       "\n",
       "#sk-container-id-29 input.sk-toggleable__control:checked~div.sk-toggleable__content {\n",
       "  /* Expand drop-down */\n",
       "  display: block;\n",
       "  width: 100%;\n",
       "  overflow: visible;\n",
       "}\n",
       "\n",
       "#sk-container-id-29 input.sk-toggleable__control:checked~label.sk-toggleable__label-arrow:before {\n",
       "  content: \"▾\";\n",
       "}\n",
       "\n",
       "/* Pipeline/ColumnTransformer-specific style */\n",
       "\n",
       "#sk-container-id-29 div.sk-label input.sk-toggleable__control:checked~label.sk-toggleable__label {\n",
       "  color: var(--sklearn-color-text);\n",
       "  background-color: var(--sklearn-color-unfitted-level-2);\n",
       "}\n",
       "\n",
       "#sk-container-id-29 div.sk-label.fitted input.sk-toggleable__control:checked~label.sk-toggleable__label {\n",
       "  background-color: var(--sklearn-color-fitted-level-2);\n",
       "}\n",
       "\n",
       "/* Estimator-specific style */\n",
       "\n",
       "/* Colorize estimator box */\n",
       "#sk-container-id-29 div.sk-estimator input.sk-toggleable__control:checked~label.sk-toggleable__label {\n",
       "  /* unfitted */\n",
       "  background-color: var(--sklearn-color-unfitted-level-2);\n",
       "}\n",
       "\n",
       "#sk-container-id-29 div.sk-estimator.fitted input.sk-toggleable__control:checked~label.sk-toggleable__label {\n",
       "  /* fitted */\n",
       "  background-color: var(--sklearn-color-fitted-level-2);\n",
       "}\n",
       "\n",
       "#sk-container-id-29 div.sk-label label.sk-toggleable__label,\n",
       "#sk-container-id-29 div.sk-label label {\n",
       "  /* The background is the default theme color */\n",
       "  color: var(--sklearn-color-text-on-default-background);\n",
       "}\n",
       "\n",
       "/* On hover, darken the color of the background */\n",
       "#sk-container-id-29 div.sk-label:hover label.sk-toggleable__label {\n",
       "  color: var(--sklearn-color-text);\n",
       "  background-color: var(--sklearn-color-unfitted-level-2);\n",
       "}\n",
       "\n",
       "/* Label box, darken color on hover, fitted */\n",
       "#sk-container-id-29 div.sk-label.fitted:hover label.sk-toggleable__label.fitted {\n",
       "  color: var(--sklearn-color-text);\n",
       "  background-color: var(--sklearn-color-fitted-level-2);\n",
       "}\n",
       "\n",
       "/* Estimator label */\n",
       "\n",
       "#sk-container-id-29 div.sk-label label {\n",
       "  font-family: monospace;\n",
       "  font-weight: bold;\n",
       "  display: inline-block;\n",
       "  line-height: 1.2em;\n",
       "}\n",
       "\n",
       "#sk-container-id-29 div.sk-label-container {\n",
       "  text-align: center;\n",
       "}\n",
       "\n",
       "/* Estimator-specific */\n",
       "#sk-container-id-29 div.sk-estimator {\n",
       "  font-family: monospace;\n",
       "  border: 1px dotted var(--sklearn-color-border-box);\n",
       "  border-radius: 0.25em;\n",
       "  box-sizing: border-box;\n",
       "  margin-bottom: 0.5em;\n",
       "  /* unfitted */\n",
       "  background-color: var(--sklearn-color-unfitted-level-0);\n",
       "}\n",
       "\n",
       "#sk-container-id-29 div.sk-estimator.fitted {\n",
       "  /* fitted */\n",
       "  background-color: var(--sklearn-color-fitted-level-0);\n",
       "}\n",
       "\n",
       "/* on hover */\n",
       "#sk-container-id-29 div.sk-estimator:hover {\n",
       "  /* unfitted */\n",
       "  background-color: var(--sklearn-color-unfitted-level-2);\n",
       "}\n",
       "\n",
       "#sk-container-id-29 div.sk-estimator.fitted:hover {\n",
       "  /* fitted */\n",
       "  background-color: var(--sklearn-color-fitted-level-2);\n",
       "}\n",
       "\n",
       "/* Specification for estimator info (e.g. \"i\" and \"?\") */\n",
       "\n",
       "/* Common style for \"i\" and \"?\" */\n",
       "\n",
       ".sk-estimator-doc-link,\n",
       "a:link.sk-estimator-doc-link,\n",
       "a:visited.sk-estimator-doc-link {\n",
       "  float: right;\n",
       "  font-size: smaller;\n",
       "  line-height: 1em;\n",
       "  font-family: monospace;\n",
       "  background-color: var(--sklearn-color-background);\n",
       "  border-radius: 1em;\n",
       "  height: 1em;\n",
       "  width: 1em;\n",
       "  text-decoration: none !important;\n",
       "  margin-left: 0.5em;\n",
       "  text-align: center;\n",
       "  /* unfitted */\n",
       "  border: var(--sklearn-color-unfitted-level-1) 1pt solid;\n",
       "  color: var(--sklearn-color-unfitted-level-1);\n",
       "}\n",
       "\n",
       ".sk-estimator-doc-link.fitted,\n",
       "a:link.sk-estimator-doc-link.fitted,\n",
       "a:visited.sk-estimator-doc-link.fitted {\n",
       "  /* fitted */\n",
       "  border: var(--sklearn-color-fitted-level-1) 1pt solid;\n",
       "  color: var(--sklearn-color-fitted-level-1);\n",
       "}\n",
       "\n",
       "/* On hover */\n",
       "div.sk-estimator:hover .sk-estimator-doc-link:hover,\n",
       ".sk-estimator-doc-link:hover,\n",
       "div.sk-label-container:hover .sk-estimator-doc-link:hover,\n",
       ".sk-estimator-doc-link:hover {\n",
       "  /* unfitted */\n",
       "  background-color: var(--sklearn-color-unfitted-level-3);\n",
       "  color: var(--sklearn-color-background);\n",
       "  text-decoration: none;\n",
       "}\n",
       "\n",
       "div.sk-estimator.fitted:hover .sk-estimator-doc-link.fitted:hover,\n",
       ".sk-estimator-doc-link.fitted:hover,\n",
       "div.sk-label-container:hover .sk-estimator-doc-link.fitted:hover,\n",
       ".sk-estimator-doc-link.fitted:hover {\n",
       "  /* fitted */\n",
       "  background-color: var(--sklearn-color-fitted-level-3);\n",
       "  color: var(--sklearn-color-background);\n",
       "  text-decoration: none;\n",
       "}\n",
       "\n",
       "/* Span, style for the box shown on hovering the info icon */\n",
       ".sk-estimator-doc-link span {\n",
       "  display: none;\n",
       "  z-index: 9999;\n",
       "  position: relative;\n",
       "  font-weight: normal;\n",
       "  right: .2ex;\n",
       "  padding: .5ex;\n",
       "  margin: .5ex;\n",
       "  width: min-content;\n",
       "  min-width: 20ex;\n",
       "  max-width: 50ex;\n",
       "  color: var(--sklearn-color-text);\n",
       "  box-shadow: 2pt 2pt 4pt #999;\n",
       "  /* unfitted */\n",
       "  background: var(--sklearn-color-unfitted-level-0);\n",
       "  border: .5pt solid var(--sklearn-color-unfitted-level-3);\n",
       "}\n",
       "\n",
       ".sk-estimator-doc-link.fitted span {\n",
       "  /* fitted */\n",
       "  background: var(--sklearn-color-fitted-level-0);\n",
       "  border: var(--sklearn-color-fitted-level-3);\n",
       "}\n",
       "\n",
       ".sk-estimator-doc-link:hover span {\n",
       "  display: block;\n",
       "}\n",
       "\n",
       "/* \"?\"-specific style due to the `<a>` HTML tag */\n",
       "\n",
       "#sk-container-id-29 a.estimator_doc_link {\n",
       "  float: right;\n",
       "  font-size: 1rem;\n",
       "  line-height: 1em;\n",
       "  font-family: monospace;\n",
       "  background-color: var(--sklearn-color-background);\n",
       "  border-radius: 1rem;\n",
       "  height: 1rem;\n",
       "  width: 1rem;\n",
       "  text-decoration: none;\n",
       "  /* unfitted */\n",
       "  color: var(--sklearn-color-unfitted-level-1);\n",
       "  border: var(--sklearn-color-unfitted-level-1) 1pt solid;\n",
       "}\n",
       "\n",
       "#sk-container-id-29 a.estimator_doc_link.fitted {\n",
       "  /* fitted */\n",
       "  border: var(--sklearn-color-fitted-level-1) 1pt solid;\n",
       "  color: var(--sklearn-color-fitted-level-1);\n",
       "}\n",
       "\n",
       "/* On hover */\n",
       "#sk-container-id-29 a.estimator_doc_link:hover {\n",
       "  /* unfitted */\n",
       "  background-color: var(--sklearn-color-unfitted-level-3);\n",
       "  color: var(--sklearn-color-background);\n",
       "  text-decoration: none;\n",
       "}\n",
       "\n",
       "#sk-container-id-29 a.estimator_doc_link.fitted:hover {\n",
       "  /* fitted */\n",
       "  background-color: var(--sklearn-color-fitted-level-3);\n",
       "}\n",
       "\n",
       ".estimator-table summary {\n",
       "    padding: .5rem;\n",
       "    font-family: monospace;\n",
       "    cursor: pointer;\n",
       "}\n",
       "\n",
       ".estimator-table details[open] {\n",
       "    padding-left: 0.1rem;\n",
       "    padding-right: 0.1rem;\n",
       "    padding-bottom: 0.3rem;\n",
       "}\n",
       "\n",
       ".estimator-table .parameters-table {\n",
       "    margin-left: auto !important;\n",
       "    margin-right: auto !important;\n",
       "}\n",
       "\n",
       ".estimator-table .parameters-table tr:nth-child(odd) {\n",
       "    background-color: #fff;\n",
       "}\n",
       "\n",
       ".estimator-table .parameters-table tr:nth-child(even) {\n",
       "    background-color: #f6f6f6;\n",
       "}\n",
       "\n",
       ".estimator-table .parameters-table tr:hover {\n",
       "    background-color: #e0e0e0;\n",
       "}\n",
       "\n",
       ".estimator-table table td {\n",
       "    border: 1px solid rgba(106, 105, 104, 0.232);\n",
       "}\n",
       "\n",
       ".user-set td {\n",
       "    color:rgb(255, 94, 0);\n",
       "    text-align: left;\n",
       "}\n",
       "\n",
       ".user-set td.value pre {\n",
       "    color:rgb(255, 94, 0) !important;\n",
       "    background-color: transparent !important;\n",
       "}\n",
       "\n",
       ".default td {\n",
       "    color: black;\n",
       "    text-align: left;\n",
       "}\n",
       "\n",
       ".user-set td i,\n",
       ".default td i {\n",
       "    color: black;\n",
       "}\n",
       "\n",
       ".copy-paste-icon {\n",
       "    background-image: url(data:image/svg+xml;base64,PHN2ZyB4bWxucz0iaHR0cDovL3d3dy53My5vcmcvMjAwMC9zdmciIHZpZXdCb3g9IjAgMCA0NDggNTEyIj48IS0tIUZvbnQgQXdlc29tZSBGcmVlIDYuNy4yIGJ5IEBmb250YXdlc29tZSAtIGh0dHBzOi8vZm9udGF3ZXNvbWUuY29tIExpY2Vuc2UgLSBodHRwczovL2ZvbnRhd2Vzb21lLmNvbS9saWNlbnNlL2ZyZWUgQ29weXJpZ2h0IDIwMjUgRm9udGljb25zLCBJbmMuLS0+PHBhdGggZD0iTTIwOCAwTDMzMi4xIDBjMTIuNyAwIDI0LjkgNS4xIDMzLjkgMTQuMWw2Ny45IDY3LjljOSA5IDE0LjEgMjEuMiAxNC4xIDMzLjlMNDQ4IDMzNmMwIDI2LjUtMjEuNSA0OC00OCA0OGwtMTkyIDBjLTI2LjUgMC00OC0yMS41LTQ4LTQ4bDAtMjg4YzAtMjYuNSAyMS41LTQ4IDQ4LTQ4ek00OCAxMjhsODAgMCAwIDY0LTY0IDAgMCAyNTYgMTkyIDAgMC0zMiA2NCAwIDAgNDhjMCAyNi41LTIxLjUgNDgtNDggNDhMNDggNTEyYy0yNi41IDAtNDgtMjEuNS00OC00OEwwIDE3NmMwLTI2LjUgMjEuNS00OCA0OC00OHoiLz48L3N2Zz4=);\n",
       "    background-repeat: no-repeat;\n",
       "    background-size: 14px 14px;\n",
       "    background-position: 0;\n",
       "    display: inline-block;\n",
       "    width: 14px;\n",
       "    height: 14px;\n",
       "    cursor: pointer;\n",
       "}\n",
       "</style><body><div id=\"sk-container-id-29\" class=\"sk-top-container\"><div class=\"sk-text-repr-fallback\"><pre>Pipeline(steps=[(&#x27;preprocess&#x27;,\n",
       "                 ColumnTransformer(transformers=[(&#x27;num&#x27;,\n",
       "                                                  Pipeline(steps=[(&#x27;scaler&#x27;,\n",
       "                                                                   StandardScaler())]),\n",
       "                                                  [&#x27;DEPARTURE_DELAY&#x27;]),\n",
       "                                                 (&#x27;cat&#x27;,\n",
       "                                                  Pipeline(steps=[(&#x27;encoder&#x27;,\n",
       "                                                                   OrdinalEncoder(cols=[&#x27;AIRLINE&#x27;,\n",
       "                                                                                        &#x27;ORIGIN_AIRPORT&#x27;,\n",
       "                                                                                        &#x27;DESTINATION_AIRPORT&#x27;]))]),\n",
       "                                                  [&#x27;AIRLINE&#x27;, &#x27;ORIGIN_AIRPORT&#x27;,\n",
       "                                                   &#x27;DESTINATION_AIRPORT&#x27;])])),\n",
       "                (&#x27;rf&#x27;,\n",
       "                 RandomForestRegressor(max_depth=5, max_features=4,\n",
       "                                       n_estimators=500, random_state=0))])</pre><b>In a Jupyter environment, please rerun this cell to show the HTML representation or trust the notebook. <br />On GitHub, the HTML representation is unable to render, please try loading this page with nbviewer.org.</b></div><div class=\"sk-container\" hidden><div class=\"sk-item sk-dashed-wrapped\"><div class=\"sk-label-container\"><div class=\"sk-label fitted sk-toggleable\"><input class=\"sk-toggleable__control sk-hidden--visually\" id=\"sk-estimator-id-197\" type=\"checkbox\" ><label for=\"sk-estimator-id-197\" class=\"sk-toggleable__label fitted sk-toggleable__label-arrow\"><div><div>Pipeline</div></div><div><a class=\"sk-estimator-doc-link fitted\" rel=\"noreferrer\" target=\"_blank\" href=\"https://scikit-learn.org/1.7/modules/generated/sklearn.pipeline.Pipeline.html\">?<span>Documentation for Pipeline</span></a><span class=\"sk-estimator-doc-link fitted\">i<span>Fitted</span></span></div></label><div class=\"sk-toggleable__content fitted\" data-param-prefix=\"\">\n",
       "        <div class=\"estimator-table\">\n",
       "            <details>\n",
       "                <summary>Parameters</summary>\n",
       "                <table class=\"parameters-table\">\n",
       "                  <tbody>\n",
       "                    \n",
       "        <tr class=\"user-set\">\n",
       "            <td><i class=\"copy-paste-icon\"\n",
       "                 onclick=\"copyToClipboard('steps',\n",
       "                          this.parentElement.nextElementSibling)\"\n",
       "            ></i></td>\n",
       "            <td class=\"param\">steps&nbsp;</td>\n",
       "            <td class=\"value\">[(&#x27;preprocess&#x27;, ...), (&#x27;rf&#x27;, ...)]</td>\n",
       "        </tr>\n",
       "    \n",
       "\n",
       "        <tr class=\"default\">\n",
       "            <td><i class=\"copy-paste-icon\"\n",
       "                 onclick=\"copyToClipboard('transform_input',\n",
       "                          this.parentElement.nextElementSibling)\"\n",
       "            ></i></td>\n",
       "            <td class=\"param\">transform_input&nbsp;</td>\n",
       "            <td class=\"value\">None</td>\n",
       "        </tr>\n",
       "    \n",
       "\n",
       "        <tr class=\"default\">\n",
       "            <td><i class=\"copy-paste-icon\"\n",
       "                 onclick=\"copyToClipboard('memory',\n",
       "                          this.parentElement.nextElementSibling)\"\n",
       "            ></i></td>\n",
       "            <td class=\"param\">memory&nbsp;</td>\n",
       "            <td class=\"value\">None</td>\n",
       "        </tr>\n",
       "    \n",
       "\n",
       "        <tr class=\"default\">\n",
       "            <td><i class=\"copy-paste-icon\"\n",
       "                 onclick=\"copyToClipboard('verbose',\n",
       "                          this.parentElement.nextElementSibling)\"\n",
       "            ></i></td>\n",
       "            <td class=\"param\">verbose&nbsp;</td>\n",
       "            <td class=\"value\">False</td>\n",
       "        </tr>\n",
       "    \n",
       "                  </tbody>\n",
       "                </table>\n",
       "            </details>\n",
       "        </div>\n",
       "    </div></div></div><div class=\"sk-serial\"><div class=\"sk-item sk-dashed-wrapped\"><div class=\"sk-label-container\"><div class=\"sk-label fitted sk-toggleable\"><input class=\"sk-toggleable__control sk-hidden--visually\" id=\"sk-estimator-id-198\" type=\"checkbox\" ><label for=\"sk-estimator-id-198\" class=\"sk-toggleable__label fitted sk-toggleable__label-arrow\"><div><div>preprocess: ColumnTransformer</div></div><div><a class=\"sk-estimator-doc-link fitted\" rel=\"noreferrer\" target=\"_blank\" href=\"https://scikit-learn.org/1.7/modules/generated/sklearn.compose.ColumnTransformer.html\">?<span>Documentation for preprocess: ColumnTransformer</span></a></div></label><div class=\"sk-toggleable__content fitted\" data-param-prefix=\"preprocess__\">\n",
       "        <div class=\"estimator-table\">\n",
       "            <details>\n",
       "                <summary>Parameters</summary>\n",
       "                <table class=\"parameters-table\">\n",
       "                  <tbody>\n",
       "                    \n",
       "        <tr class=\"user-set\">\n",
       "            <td><i class=\"copy-paste-icon\"\n",
       "                 onclick=\"copyToClipboard('transformers',\n",
       "                          this.parentElement.nextElementSibling)\"\n",
       "            ></i></td>\n",
       "            <td class=\"param\">transformers&nbsp;</td>\n",
       "            <td class=\"value\">[(&#x27;num&#x27;, ...), (&#x27;cat&#x27;, ...)]</td>\n",
       "        </tr>\n",
       "    \n",
       "\n",
       "        <tr class=\"default\">\n",
       "            <td><i class=\"copy-paste-icon\"\n",
       "                 onclick=\"copyToClipboard('remainder',\n",
       "                          this.parentElement.nextElementSibling)\"\n",
       "            ></i></td>\n",
       "            <td class=\"param\">remainder&nbsp;</td>\n",
       "            <td class=\"value\">&#x27;drop&#x27;</td>\n",
       "        </tr>\n",
       "    \n",
       "\n",
       "        <tr class=\"default\">\n",
       "            <td><i class=\"copy-paste-icon\"\n",
       "                 onclick=\"copyToClipboard('sparse_threshold',\n",
       "                          this.parentElement.nextElementSibling)\"\n",
       "            ></i></td>\n",
       "            <td class=\"param\">sparse_threshold&nbsp;</td>\n",
       "            <td class=\"value\">0.3</td>\n",
       "        </tr>\n",
       "    \n",
       "\n",
       "        <tr class=\"default\">\n",
       "            <td><i class=\"copy-paste-icon\"\n",
       "                 onclick=\"copyToClipboard('n_jobs',\n",
       "                          this.parentElement.nextElementSibling)\"\n",
       "            ></i></td>\n",
       "            <td class=\"param\">n_jobs&nbsp;</td>\n",
       "            <td class=\"value\">None</td>\n",
       "        </tr>\n",
       "    \n",
       "\n",
       "        <tr class=\"default\">\n",
       "            <td><i class=\"copy-paste-icon\"\n",
       "                 onclick=\"copyToClipboard('transformer_weights',\n",
       "                          this.parentElement.nextElementSibling)\"\n",
       "            ></i></td>\n",
       "            <td class=\"param\">transformer_weights&nbsp;</td>\n",
       "            <td class=\"value\">None</td>\n",
       "        </tr>\n",
       "    \n",
       "\n",
       "        <tr class=\"default\">\n",
       "            <td><i class=\"copy-paste-icon\"\n",
       "                 onclick=\"copyToClipboard('verbose',\n",
       "                          this.parentElement.nextElementSibling)\"\n",
       "            ></i></td>\n",
       "            <td class=\"param\">verbose&nbsp;</td>\n",
       "            <td class=\"value\">False</td>\n",
       "        </tr>\n",
       "    \n",
       "\n",
       "        <tr class=\"default\">\n",
       "            <td><i class=\"copy-paste-icon\"\n",
       "                 onclick=\"copyToClipboard('verbose_feature_names_out',\n",
       "                          this.parentElement.nextElementSibling)\"\n",
       "            ></i></td>\n",
       "            <td class=\"param\">verbose_feature_names_out&nbsp;</td>\n",
       "            <td class=\"value\">True</td>\n",
       "        </tr>\n",
       "    \n",
       "\n",
       "        <tr class=\"default\">\n",
       "            <td><i class=\"copy-paste-icon\"\n",
       "                 onclick=\"copyToClipboard('force_int_remainder_cols',\n",
       "                          this.parentElement.nextElementSibling)\"\n",
       "            ></i></td>\n",
       "            <td class=\"param\">force_int_remainder_cols&nbsp;</td>\n",
       "            <td class=\"value\">&#x27;deprecated&#x27;</td>\n",
       "        </tr>\n",
       "    \n",
       "                  </tbody>\n",
       "                </table>\n",
       "            </details>\n",
       "        </div>\n",
       "    </div></div></div><div class=\"sk-parallel\"><div class=\"sk-parallel-item\"><div class=\"sk-item\"><div class=\"sk-label-container\"><div class=\"sk-label fitted sk-toggleable\"><input class=\"sk-toggleable__control sk-hidden--visually\" id=\"sk-estimator-id-199\" type=\"checkbox\" ><label for=\"sk-estimator-id-199\" class=\"sk-toggleable__label fitted sk-toggleable__label-arrow\"><div><div>num</div></div></label><div class=\"sk-toggleable__content fitted\" data-param-prefix=\"preprocess__num__\"><pre>[&#x27;DEPARTURE_DELAY&#x27;]</pre></div></div></div><div class=\"sk-serial\"><div class=\"sk-item\"><div class=\"sk-serial\"><div class=\"sk-item\"><div class=\"sk-estimator fitted sk-toggleable\"><input class=\"sk-toggleable__control sk-hidden--visually\" id=\"sk-estimator-id-200\" type=\"checkbox\" ><label for=\"sk-estimator-id-200\" class=\"sk-toggleable__label fitted sk-toggleable__label-arrow\"><div><div>StandardScaler</div></div><div><a class=\"sk-estimator-doc-link fitted\" rel=\"noreferrer\" target=\"_blank\" href=\"https://scikit-learn.org/1.7/modules/generated/sklearn.preprocessing.StandardScaler.html\">?<span>Documentation for StandardScaler</span></a></div></label><div class=\"sk-toggleable__content fitted\" data-param-prefix=\"preprocess__num__scaler__\">\n",
       "        <div class=\"estimator-table\">\n",
       "            <details>\n",
       "                <summary>Parameters</summary>\n",
       "                <table class=\"parameters-table\">\n",
       "                  <tbody>\n",
       "                    \n",
       "        <tr class=\"default\">\n",
       "            <td><i class=\"copy-paste-icon\"\n",
       "                 onclick=\"copyToClipboard('copy',\n",
       "                          this.parentElement.nextElementSibling)\"\n",
       "            ></i></td>\n",
       "            <td class=\"param\">copy&nbsp;</td>\n",
       "            <td class=\"value\">True</td>\n",
       "        </tr>\n",
       "    \n",
       "\n",
       "        <tr class=\"default\">\n",
       "            <td><i class=\"copy-paste-icon\"\n",
       "                 onclick=\"copyToClipboard('with_mean',\n",
       "                          this.parentElement.nextElementSibling)\"\n",
       "            ></i></td>\n",
       "            <td class=\"param\">with_mean&nbsp;</td>\n",
       "            <td class=\"value\">True</td>\n",
       "        </tr>\n",
       "    \n",
       "\n",
       "        <tr class=\"default\">\n",
       "            <td><i class=\"copy-paste-icon\"\n",
       "                 onclick=\"copyToClipboard('with_std',\n",
       "                          this.parentElement.nextElementSibling)\"\n",
       "            ></i></td>\n",
       "            <td class=\"param\">with_std&nbsp;</td>\n",
       "            <td class=\"value\">True</td>\n",
       "        </tr>\n",
       "    \n",
       "                  </tbody>\n",
       "                </table>\n",
       "            </details>\n",
       "        </div>\n",
       "    </div></div></div></div></div></div></div></div><div class=\"sk-parallel-item\"><div class=\"sk-item\"><div class=\"sk-label-container\"><div class=\"sk-label fitted sk-toggleable\"><input class=\"sk-toggleable__control sk-hidden--visually\" id=\"sk-estimator-id-201\" type=\"checkbox\" ><label for=\"sk-estimator-id-201\" class=\"sk-toggleable__label fitted sk-toggleable__label-arrow\"><div><div>cat</div></div></label><div class=\"sk-toggleable__content fitted\" data-param-prefix=\"preprocess__cat__\"><pre>[&#x27;AIRLINE&#x27;, &#x27;ORIGIN_AIRPORT&#x27;, &#x27;DESTINATION_AIRPORT&#x27;]</pre></div></div></div><div class=\"sk-serial\"><div class=\"sk-item\"><div class=\"sk-serial\"><div class=\"sk-item\"><div class=\"sk-estimator fitted sk-toggleable\"><input class=\"sk-toggleable__control sk-hidden--visually\" id=\"sk-estimator-id-202\" type=\"checkbox\" ><label for=\"sk-estimator-id-202\" class=\"sk-toggleable__label fitted sk-toggleable__label-arrow\"><div><div>OrdinalEncoder</div></div></label><div class=\"sk-toggleable__content fitted\" data-param-prefix=\"preprocess__cat__encoder__\">\n",
       "        <div class=\"estimator-table\">\n",
       "            <details>\n",
       "                <summary>Parameters</summary>\n",
       "                <table class=\"parameters-table\">\n",
       "                  <tbody>\n",
       "                    \n",
       "        <tr class=\"default\">\n",
       "            <td><i class=\"copy-paste-icon\"\n",
       "                 onclick=\"copyToClipboard('verbose',\n",
       "                          this.parentElement.nextElementSibling)\"\n",
       "            ></i></td>\n",
       "            <td class=\"param\">verbose&nbsp;</td>\n",
       "            <td class=\"value\">0</td>\n",
       "        </tr>\n",
       "    \n",
       "\n",
       "        <tr class=\"default\">\n",
       "            <td><i class=\"copy-paste-icon\"\n",
       "                 onclick=\"copyToClipboard('mapping',\n",
       "                          this.parentElement.nextElementSibling)\"\n",
       "            ></i></td>\n",
       "            <td class=\"param\">mapping&nbsp;</td>\n",
       "            <td class=\"value\">None</td>\n",
       "        </tr>\n",
       "    \n",
       "\n",
       "        <tr class=\"user-set\">\n",
       "            <td><i class=\"copy-paste-icon\"\n",
       "                 onclick=\"copyToClipboard('cols',\n",
       "                          this.parentElement.nextElementSibling)\"\n",
       "            ></i></td>\n",
       "            <td class=\"param\">cols&nbsp;</td>\n",
       "            <td class=\"value\">[&#x27;AIRLINE&#x27;, &#x27;ORIGIN_AIRPORT&#x27;, ...]</td>\n",
       "        </tr>\n",
       "    \n",
       "\n",
       "        <tr class=\"default\">\n",
       "            <td><i class=\"copy-paste-icon\"\n",
       "                 onclick=\"copyToClipboard('drop_invariant',\n",
       "                          this.parentElement.nextElementSibling)\"\n",
       "            ></i></td>\n",
       "            <td class=\"param\">drop_invariant&nbsp;</td>\n",
       "            <td class=\"value\">False</td>\n",
       "        </tr>\n",
       "    \n",
       "\n",
       "        <tr class=\"default\">\n",
       "            <td><i class=\"copy-paste-icon\"\n",
       "                 onclick=\"copyToClipboard('return_df',\n",
       "                          this.parentElement.nextElementSibling)\"\n",
       "            ></i></td>\n",
       "            <td class=\"param\">return_df&nbsp;</td>\n",
       "            <td class=\"value\">True</td>\n",
       "        </tr>\n",
       "    \n",
       "\n",
       "        <tr class=\"default\">\n",
       "            <td><i class=\"copy-paste-icon\"\n",
       "                 onclick=\"copyToClipboard('handle_unknown',\n",
       "                          this.parentElement.nextElementSibling)\"\n",
       "            ></i></td>\n",
       "            <td class=\"param\">handle_unknown&nbsp;</td>\n",
       "            <td class=\"value\">&#x27;value&#x27;</td>\n",
       "        </tr>\n",
       "    \n",
       "\n",
       "        <tr class=\"default\">\n",
       "            <td><i class=\"copy-paste-icon\"\n",
       "                 onclick=\"copyToClipboard('handle_missing',\n",
       "                          this.parentElement.nextElementSibling)\"\n",
       "            ></i></td>\n",
       "            <td class=\"param\">handle_missing&nbsp;</td>\n",
       "            <td class=\"value\">&#x27;value&#x27;</td>\n",
       "        </tr>\n",
       "    \n",
       "                  </tbody>\n",
       "                </table>\n",
       "            </details>\n",
       "        </div>\n",
       "    </div></div></div></div></div></div></div></div></div></div><div class=\"sk-item\"><div class=\"sk-estimator fitted sk-toggleable\"><input class=\"sk-toggleable__control sk-hidden--visually\" id=\"sk-estimator-id-203\" type=\"checkbox\" ><label for=\"sk-estimator-id-203\" class=\"sk-toggleable__label fitted sk-toggleable__label-arrow\"><div><div>RandomForestRegressor</div></div><div><a class=\"sk-estimator-doc-link fitted\" rel=\"noreferrer\" target=\"_blank\" href=\"https://scikit-learn.org/1.7/modules/generated/sklearn.ensemble.RandomForestRegressor.html\">?<span>Documentation for RandomForestRegressor</span></a></div></label><div class=\"sk-toggleable__content fitted\" data-param-prefix=\"rf__\">\n",
       "        <div class=\"estimator-table\">\n",
       "            <details>\n",
       "                <summary>Parameters</summary>\n",
       "                <table class=\"parameters-table\">\n",
       "                  <tbody>\n",
       "                    \n",
       "        <tr class=\"user-set\">\n",
       "            <td><i class=\"copy-paste-icon\"\n",
       "                 onclick=\"copyToClipboard('n_estimators',\n",
       "                          this.parentElement.nextElementSibling)\"\n",
       "            ></i></td>\n",
       "            <td class=\"param\">n_estimators&nbsp;</td>\n",
       "            <td class=\"value\">500</td>\n",
       "        </tr>\n",
       "    \n",
       "\n",
       "        <tr class=\"default\">\n",
       "            <td><i class=\"copy-paste-icon\"\n",
       "                 onclick=\"copyToClipboard('criterion',\n",
       "                          this.parentElement.nextElementSibling)\"\n",
       "            ></i></td>\n",
       "            <td class=\"param\">criterion&nbsp;</td>\n",
       "            <td class=\"value\">&#x27;squared_error&#x27;</td>\n",
       "        </tr>\n",
       "    \n",
       "\n",
       "        <tr class=\"user-set\">\n",
       "            <td><i class=\"copy-paste-icon\"\n",
       "                 onclick=\"copyToClipboard('max_depth',\n",
       "                          this.parentElement.nextElementSibling)\"\n",
       "            ></i></td>\n",
       "            <td class=\"param\">max_depth&nbsp;</td>\n",
       "            <td class=\"value\">5</td>\n",
       "        </tr>\n",
       "    \n",
       "\n",
       "        <tr class=\"default\">\n",
       "            <td><i class=\"copy-paste-icon\"\n",
       "                 onclick=\"copyToClipboard('min_samples_split',\n",
       "                          this.parentElement.nextElementSibling)\"\n",
       "            ></i></td>\n",
       "            <td class=\"param\">min_samples_split&nbsp;</td>\n",
       "            <td class=\"value\">2</td>\n",
       "        </tr>\n",
       "    \n",
       "\n",
       "        <tr class=\"default\">\n",
       "            <td><i class=\"copy-paste-icon\"\n",
       "                 onclick=\"copyToClipboard('min_samples_leaf',\n",
       "                          this.parentElement.nextElementSibling)\"\n",
       "            ></i></td>\n",
       "            <td class=\"param\">min_samples_leaf&nbsp;</td>\n",
       "            <td class=\"value\">1</td>\n",
       "        </tr>\n",
       "    \n",
       "\n",
       "        <tr class=\"default\">\n",
       "            <td><i class=\"copy-paste-icon\"\n",
       "                 onclick=\"copyToClipboard('min_weight_fraction_leaf',\n",
       "                          this.parentElement.nextElementSibling)\"\n",
       "            ></i></td>\n",
       "            <td class=\"param\">min_weight_fraction_leaf&nbsp;</td>\n",
       "            <td class=\"value\">0.0</td>\n",
       "        </tr>\n",
       "    \n",
       "\n",
       "        <tr class=\"user-set\">\n",
       "            <td><i class=\"copy-paste-icon\"\n",
       "                 onclick=\"copyToClipboard('max_features',\n",
       "                          this.parentElement.nextElementSibling)\"\n",
       "            ></i></td>\n",
       "            <td class=\"param\">max_features&nbsp;</td>\n",
       "            <td class=\"value\">4</td>\n",
       "        </tr>\n",
       "    \n",
       "\n",
       "        <tr class=\"default\">\n",
       "            <td><i class=\"copy-paste-icon\"\n",
       "                 onclick=\"copyToClipboard('max_leaf_nodes',\n",
       "                          this.parentElement.nextElementSibling)\"\n",
       "            ></i></td>\n",
       "            <td class=\"param\">max_leaf_nodes&nbsp;</td>\n",
       "            <td class=\"value\">None</td>\n",
       "        </tr>\n",
       "    \n",
       "\n",
       "        <tr class=\"default\">\n",
       "            <td><i class=\"copy-paste-icon\"\n",
       "                 onclick=\"copyToClipboard('min_impurity_decrease',\n",
       "                          this.parentElement.nextElementSibling)\"\n",
       "            ></i></td>\n",
       "            <td class=\"param\">min_impurity_decrease&nbsp;</td>\n",
       "            <td class=\"value\">0.0</td>\n",
       "        </tr>\n",
       "    \n",
       "\n",
       "        <tr class=\"default\">\n",
       "            <td><i class=\"copy-paste-icon\"\n",
       "                 onclick=\"copyToClipboard('bootstrap',\n",
       "                          this.parentElement.nextElementSibling)\"\n",
       "            ></i></td>\n",
       "            <td class=\"param\">bootstrap&nbsp;</td>\n",
       "            <td class=\"value\">True</td>\n",
       "        </tr>\n",
       "    \n",
       "\n",
       "        <tr class=\"default\">\n",
       "            <td><i class=\"copy-paste-icon\"\n",
       "                 onclick=\"copyToClipboard('oob_score',\n",
       "                          this.parentElement.nextElementSibling)\"\n",
       "            ></i></td>\n",
       "            <td class=\"param\">oob_score&nbsp;</td>\n",
       "            <td class=\"value\">False</td>\n",
       "        </tr>\n",
       "    \n",
       "\n",
       "        <tr class=\"default\">\n",
       "            <td><i class=\"copy-paste-icon\"\n",
       "                 onclick=\"copyToClipboard('n_jobs',\n",
       "                          this.parentElement.nextElementSibling)\"\n",
       "            ></i></td>\n",
       "            <td class=\"param\">n_jobs&nbsp;</td>\n",
       "            <td class=\"value\">None</td>\n",
       "        </tr>\n",
       "    \n",
       "\n",
       "        <tr class=\"user-set\">\n",
       "            <td><i class=\"copy-paste-icon\"\n",
       "                 onclick=\"copyToClipboard('random_state',\n",
       "                          this.parentElement.nextElementSibling)\"\n",
       "            ></i></td>\n",
       "            <td class=\"param\">random_state&nbsp;</td>\n",
       "            <td class=\"value\">0</td>\n",
       "        </tr>\n",
       "    \n",
       "\n",
       "        <tr class=\"default\">\n",
       "            <td><i class=\"copy-paste-icon\"\n",
       "                 onclick=\"copyToClipboard('verbose',\n",
       "                          this.parentElement.nextElementSibling)\"\n",
       "            ></i></td>\n",
       "            <td class=\"param\">verbose&nbsp;</td>\n",
       "            <td class=\"value\">0</td>\n",
       "        </tr>\n",
       "    \n",
       "\n",
       "        <tr class=\"default\">\n",
       "            <td><i class=\"copy-paste-icon\"\n",
       "                 onclick=\"copyToClipboard('warm_start',\n",
       "                          this.parentElement.nextElementSibling)\"\n",
       "            ></i></td>\n",
       "            <td class=\"param\">warm_start&nbsp;</td>\n",
       "            <td class=\"value\">False</td>\n",
       "        </tr>\n",
       "    \n",
       "\n",
       "        <tr class=\"default\">\n",
       "            <td><i class=\"copy-paste-icon\"\n",
       "                 onclick=\"copyToClipboard('ccp_alpha',\n",
       "                          this.parentElement.nextElementSibling)\"\n",
       "            ></i></td>\n",
       "            <td class=\"param\">ccp_alpha&nbsp;</td>\n",
       "            <td class=\"value\">0.0</td>\n",
       "        </tr>\n",
       "    \n",
       "\n",
       "        <tr class=\"default\">\n",
       "            <td><i class=\"copy-paste-icon\"\n",
       "                 onclick=\"copyToClipboard('max_samples',\n",
       "                          this.parentElement.nextElementSibling)\"\n",
       "            ></i></td>\n",
       "            <td class=\"param\">max_samples&nbsp;</td>\n",
       "            <td class=\"value\">None</td>\n",
       "        </tr>\n",
       "    \n",
       "\n",
       "        <tr class=\"default\">\n",
       "            <td><i class=\"copy-paste-icon\"\n",
       "                 onclick=\"copyToClipboard('monotonic_cst',\n",
       "                          this.parentElement.nextElementSibling)\"\n",
       "            ></i></td>\n",
       "            <td class=\"param\">monotonic_cst&nbsp;</td>\n",
       "            <td class=\"value\">None</td>\n",
       "        </tr>\n",
       "    \n",
       "                  </tbody>\n",
       "                </table>\n",
       "            </details>\n",
       "        </div>\n",
       "    </div></div></div></div></div></div></div><script>function copyToClipboard(text, element) {\n",
       "    // Get the parameter prefix from the closest toggleable content\n",
       "    const toggleableContent = element.closest('.sk-toggleable__content');\n",
       "    const paramPrefix = toggleableContent ? toggleableContent.dataset.paramPrefix : '';\n",
       "    const fullParamName = paramPrefix ? `${paramPrefix}${text}` : text;\n",
       "\n",
       "    const originalStyle = element.style;\n",
       "    const computedStyle = window.getComputedStyle(element);\n",
       "    const originalWidth = computedStyle.width;\n",
       "    const originalHTML = element.innerHTML.replace('Copied!', '');\n",
       "\n",
       "    navigator.clipboard.writeText(fullParamName)\n",
       "        .then(() => {\n",
       "            element.style.width = originalWidth;\n",
       "            element.style.color = 'green';\n",
       "            element.innerHTML = \"Copied!\";\n",
       "\n",
       "            setTimeout(() => {\n",
       "                element.innerHTML = originalHTML;\n",
       "                element.style = originalStyle;\n",
       "            }, 2000);\n",
       "        })\n",
       "        .catch(err => {\n",
       "            console.error('Failed to copy:', err);\n",
       "            element.style.color = 'red';\n",
       "            element.innerHTML = \"Failed!\";\n",
       "            setTimeout(() => {\n",
       "                element.innerHTML = originalHTML;\n",
       "                element.style = originalStyle;\n",
       "            }, 2000);\n",
       "        });\n",
       "    return false;\n",
       "}\n",
       "\n",
       "document.querySelectorAll('.fa-regular.fa-copy').forEach(function(element) {\n",
       "    const toggleableContent = element.closest('.sk-toggleable__content');\n",
       "    const paramPrefix = toggleableContent ? toggleableContent.dataset.paramPrefix : '';\n",
       "    const paramName = element.parentElement.nextElementSibling.textContent.trim();\n",
       "    const fullParamName = paramPrefix ? `${paramPrefix}${paramName}` : paramName;\n",
       "\n",
       "    element.setAttribute('title', fullParamName);\n",
       "});\n",
       "</script></body>"
      ]
     },
     "execution_count": 471,
     "metadata": {},
     "output_type": "execute_result"
    }
   ],
   "execution_count": 471
  },
  {
   "metadata": {
    "ExecuteTime": {
     "end_time": "2025-10-31T13:14:21.257250Z",
     "start_time": "2025-10-31T13:14:21.038735Z"
    }
   },
   "cell_type": "code",
   "source": [
    "# Eval\n",
    "y_pred_train = model.predict(X_train)\n",
    "y_pred_test = model.predict(X_test)"
   ],
   "id": "9f3aa2878d28bc0a",
   "outputs": [],
   "execution_count": 472
  },
  {
   "metadata": {
    "ExecuteTime": {
     "end_time": "2025-10-31T13:14:21.273250Z",
     "start_time": "2025-10-31T13:14:21.265782Z"
    }
   },
   "cell_type": "code",
   "source": [
    "train_r2 = r2_score(y_train, y_pred_train) * 100\n",
    "test_r2 = r2_score(y_test, y_pred_test) * 100\n",
    "train_mae = mean_absolute_error(y_train, y_pred_train)\n",
    "test_mae = mean_absolute_error(y_test, y_pred_test)\n",
    "\n",
    "print(f\"Score Train R² -- {train_r2:.2f} % | MAE = {train_mae:.2f} min\")\n",
    "print(f\"Score Test  R² -- {test_r2:.2f} % | MAE = {test_mae:.2f} min\")"
   ],
   "id": "f26be32e73983648",
   "outputs": [
    {
     "name": "stdout",
     "output_type": "stream",
     "text": [
      "Score Train R² -- 87.95 % | MAE = 8.99 min\n",
      "Score Test  R² -- 87.80 % | MAE = 9.21 min\n"
     ]
    }
   ],
   "execution_count": 473
  },
  {
   "metadata": {},
   "cell_type": "markdown",
   "source": "Compare real values vs predicted values",
   "id": "2a15594d65e57ffc"
  },
  {
   "metadata": {
    "ExecuteTime": {
     "end_time": "2025-10-31T13:14:21.337814Z",
     "start_time": "2025-10-31T13:14:21.284228Z"
    }
   },
   "cell_type": "code",
   "source": [
    "df_compare = pd.DataFrame({\n",
    "    \"Actual Delay\": y_test,\n",
    "    \"Predicted Delay\": y_pred_test\n",
    "}).reset_index(drop=True)"
   ],
   "id": "13a4d702178e1f4d",
   "outputs": [],
   "execution_count": 474
  },
  {
   "metadata": {
    "ExecuteTime": {
     "end_time": "2025-10-31T13:14:21.381559Z",
     "start_time": "2025-10-31T13:14:21.345858Z"
    }
   },
   "cell_type": "code",
   "source": [
    "fig = px.scatter(\n",
    "    df_compare,\n",
    "    x=\"Actual Delay\",\n",
    "    y=\"Predicted Delay\",\n",
    "    title=\"Predicted vs Actual Arrival Delay\",\n",
    "    opacity=0.5,\n",
    ")\n",
    "\n",
    "# Ligne parfaite (y = x)\n",
    "fig.add_shape(\n",
    "    type=\"line\",\n",
    "    x0=df_compare[\"Actual Delay\"].min(),\n",
    "    y0=df_compare[\"Actual Delay\"].min(),\n",
    "    x1=df_compare[\"Actual Delay\"].max(),\n",
    "    y1=df_compare[\"Actual Delay\"].max(),\n",
    "    line=dict(dash=\"dot\")\n",
    ")\n",
    "\n",
    "fig.show()"
   ],
   "id": "22d986a43cb89bbb",
   "outputs": [
    {
     "data": {
      "application/vnd.plotly.v1+json": {
       "data": [
        {
         "hovertemplate": "Actual Delay=%{x}<br>Predicted Delay=%{y}<extra></extra>",
         "legendgroup": "",
         "marker": {
          "color": "#636efa",
          "opacity": 0.5,
          "symbol": "circle"
         },
         "mode": "markers",
         "name": "",
         "showlegend": false,
         "x": {
          "dtype": "f8",
          "bdata": "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"
         },
         "xaxis": "x",
         "y": {
          "dtype": "f8",
          "bdata": "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"
         },
         "yaxis": "y",
         "type": "scattergl"
        }
       ],
       "layout": {
        "template": {
         "data": {
          "histogram2dcontour": [
           {
            "type": "histogram2dcontour",
            "colorbar": {
             "outlinewidth": 0,
             "ticks": ""
            },
            "colorscale": [
             [
              0.0,
              "#0d0887"
             ],
             [
              0.1111111111111111,
              "#46039f"
             ],
             [
              0.2222222222222222,
              "#7201a8"
             ],
             [
              0.3333333333333333,
              "#9c179e"
             ],
             [
              0.4444444444444444,
              "#bd3786"
             ],
             [
              0.5555555555555556,
              "#d8576b"
             ],
             [
              0.6666666666666666,
              "#ed7953"
             ],
             [
              0.7777777777777778,
              "#fb9f3a"
             ],
             [
              0.8888888888888888,
              "#fdca26"
             ],
             [
              1.0,
              "#f0f921"
             ]
            ]
           }
          ],
          "choropleth": [
           {
            "type": "choropleth",
            "colorbar": {
             "outlinewidth": 0,
             "ticks": ""
            }
           }
          ],
          "histogram2d": [
           {
            "type": "histogram2d",
            "colorbar": {
             "outlinewidth": 0,
             "ticks": ""
            },
            "colorscale": [
             [
              0.0,
              "#0d0887"
             ],
             [
              0.1111111111111111,
              "#46039f"
             ],
             [
              0.2222222222222222,
              "#7201a8"
             ],
             [
              0.3333333333333333,
              "#9c179e"
             ],
             [
              0.4444444444444444,
              "#bd3786"
             ],
             [
              0.5555555555555556,
              "#d8576b"
             ],
             [
              0.6666666666666666,
              "#ed7953"
             ],
             [
              0.7777777777777778,
              "#fb9f3a"
             ],
             [
              0.8888888888888888,
              "#fdca26"
             ],
             [
              1.0,
              "#f0f921"
             ]
            ]
           }
          ],
          "heatmap": [
           {
            "type": "heatmap",
            "colorbar": {
             "outlinewidth": 0,
             "ticks": ""
            },
            "colorscale": [
             [
              0.0,
              "#0d0887"
             ],
             [
              0.1111111111111111,
              "#46039f"
             ],
             [
              0.2222222222222222,
              "#7201a8"
             ],
             [
              0.3333333333333333,
              "#9c179e"
             ],
             [
              0.4444444444444444,
              "#bd3786"
             ],
             [
              0.5555555555555556,
              "#d8576b"
             ],
             [
              0.6666666666666666,
              "#ed7953"
             ],
             [
              0.7777777777777778,
              "#fb9f3a"
             ],
             [
              0.8888888888888888,
              "#fdca26"
             ],
             [
              1.0,
              "#f0f921"
             ]
            ]
           }
          ],
          "contourcarpet": [
           {
            "type": "contourcarpet",
            "colorbar": {
             "outlinewidth": 0,
             "ticks": ""
            }
           }
          ],
          "contour": [
           {
            "type": "contour",
            "colorbar": {
             "outlinewidth": 0,
             "ticks": ""
            },
            "colorscale": [
             [
              0.0,
              "#0d0887"
             ],
             [
              0.1111111111111111,
              "#46039f"
             ],
             [
              0.2222222222222222,
              "#7201a8"
             ],
             [
              0.3333333333333333,
              "#9c179e"
             ],
             [
              0.4444444444444444,
              "#bd3786"
             ],
             [
              0.5555555555555556,
              "#d8576b"
             ],
             [
              0.6666666666666666,
              "#ed7953"
             ],
             [
              0.7777777777777778,
              "#fb9f3a"
             ],
             [
              0.8888888888888888,
              "#fdca26"
             ],
             [
              1.0,
              "#f0f921"
             ]
            ]
           }
          ],
          "surface": [
           {
            "type": "surface",
            "colorbar": {
             "outlinewidth": 0,
             "ticks": ""
            },
            "colorscale": [
             [
              0.0,
              "#0d0887"
             ],
             [
              0.1111111111111111,
              "#46039f"
             ],
             [
              0.2222222222222222,
              "#7201a8"
             ],
             [
              0.3333333333333333,
              "#9c179e"
             ],
             [
              0.4444444444444444,
              "#bd3786"
             ],
             [
              0.5555555555555556,
              "#d8576b"
             ],
             [
              0.6666666666666666,
              "#ed7953"
             ],
             [
              0.7777777777777778,
              "#fb9f3a"
             ],
             [
              0.8888888888888888,
              "#fdca26"
             ],
             [
              1.0,
              "#f0f921"
             ]
            ]
           }
          ],
          "mesh3d": [
           {
            "type": "mesh3d",
            "colorbar": {
             "outlinewidth": 0,
             "ticks": ""
            }
           }
          ],
          "scatter": [
           {
            "marker": {
             "line": {
              "color": "#283442"
             }
            },
            "type": "scatter"
           }
          ],
          "parcoords": [
           {
            "type": "parcoords",
            "line": {
             "colorbar": {
              "outlinewidth": 0,
              "ticks": ""
             }
            }
           }
          ],
          "scatterpolargl": [
           {
            "type": "scatterpolargl",
            "marker": {
             "colorbar": {
              "outlinewidth": 0,
              "ticks": ""
             }
            }
           }
          ],
          "bar": [
           {
            "error_x": {
             "color": "#f2f5fa"
            },
            "error_y": {
             "color": "#f2f5fa"
            },
            "marker": {
             "line": {
              "color": "rgb(17,17,17)",
              "width": 0.5
             },
             "pattern": {
              "fillmode": "overlay",
              "size": 10,
              "solidity": 0.2
             }
            },
            "type": "bar"
           }
          ],
          "scattergeo": [
           {
            "type": "scattergeo",
            "marker": {
             "colorbar": {
              "outlinewidth": 0,
              "ticks": ""
             }
            }
           }
          ],
          "scatterpolar": [
           {
            "type": "scatterpolar",
            "marker": {
             "colorbar": {
              "outlinewidth": 0,
              "ticks": ""
             }
            }
           }
          ],
          "histogram": [
           {
            "marker": {
             "pattern": {
              "fillmode": "overlay",
              "size": 10,
              "solidity": 0.2
             }
            },
            "type": "histogram"
           }
          ],
          "scattergl": [
           {
            "marker": {
             "line": {
              "color": "#283442"
             }
            },
            "type": "scattergl"
           }
          ],
          "scatter3d": [
           {
            "type": "scatter3d",
            "line": {
             "colorbar": {
              "outlinewidth": 0,
              "ticks": ""
             }
            },
            "marker": {
             "colorbar": {
              "outlinewidth": 0,
              "ticks": ""
             }
            }
           }
          ],
          "scattermap": [
           {
            "type": "scattermap",
            "marker": {
             "colorbar": {
              "outlinewidth": 0,
              "ticks": ""
             }
            }
           }
          ],
          "scattermapbox": [
           {
            "type": "scattermapbox",
            "marker": {
             "colorbar": {
              "outlinewidth": 0,
              "ticks": ""
             }
            }
           }
          ],
          "scatterternary": [
           {
            "type": "scatterternary",
            "marker": {
             "colorbar": {
              "outlinewidth": 0,
              "ticks": ""
             }
            }
           }
          ],
          "scattercarpet": [
           {
            "type": "scattercarpet",
            "marker": {
             "colorbar": {
              "outlinewidth": 0,
              "ticks": ""
             }
            }
           }
          ],
          "carpet": [
           {
            "aaxis": {
             "endlinecolor": "#A2B1C6",
             "gridcolor": "#506784",
             "linecolor": "#506784",
             "minorgridcolor": "#506784",
             "startlinecolor": "#A2B1C6"
            },
            "baxis": {
             "endlinecolor": "#A2B1C6",
             "gridcolor": "#506784",
             "linecolor": "#506784",
             "minorgridcolor": "#506784",
             "startlinecolor": "#A2B1C6"
            },
            "type": "carpet"
           }
          ],
          "table": [
           {
            "cells": {
             "fill": {
              "color": "#506784"
             },
             "line": {
              "color": "rgb(17,17,17)"
             }
            },
            "header": {
             "fill": {
              "color": "#2a3f5f"
             },
             "line": {
              "color": "rgb(17,17,17)"
             }
            },
            "type": "table"
           }
          ],
          "barpolar": [
           {
            "marker": {
             "line": {
              "color": "rgb(17,17,17)",
              "width": 0.5
             },
             "pattern": {
              "fillmode": "overlay",
              "size": 10,
              "solidity": 0.2
             }
            },
            "type": "barpolar"
           }
          ],
          "pie": [
           {
            "automargin": true,
            "type": "pie"
           }
          ]
         },
         "layout": {
          "autotypenumbers": "strict",
          "colorway": [
           "#636efa",
           "#EF553B",
           "#00cc96",
           "#ab63fa",
           "#FFA15A",
           "#19d3f3",
           "#FF6692",
           "#B6E880",
           "#FF97FF",
           "#FECB52"
          ],
          "font": {
           "color": "#f2f5fa"
          },
          "hovermode": "closest",
          "hoverlabel": {
           "align": "left"
          },
          "paper_bgcolor": "rgb(17,17,17)",
          "plot_bgcolor": "rgb(17,17,17)",
          "polar": {
           "bgcolor": "rgb(17,17,17)",
           "angularaxis": {
            "gridcolor": "#506784",
            "linecolor": "#506784",
            "ticks": ""
           },
           "radialaxis": {
            "gridcolor": "#506784",
            "linecolor": "#506784",
            "ticks": ""
           }
          },
          "ternary": {
           "bgcolor": "rgb(17,17,17)",
           "aaxis": {
            "gridcolor": "#506784",
            "linecolor": "#506784",
            "ticks": ""
           },
           "baxis": {
            "gridcolor": "#506784",
            "linecolor": "#506784",
            "ticks": ""
           },
           "caxis": {
            "gridcolor": "#506784",
            "linecolor": "#506784",
            "ticks": ""
           }
          },
          "coloraxis": {
           "colorbar": {
            "outlinewidth": 0,
            "ticks": ""
           }
          },
          "colorscale": {
           "sequential": [
            [
             0.0,
             "#0d0887"
            ],
            [
             0.1111111111111111,
             "#46039f"
            ],
            [
             0.2222222222222222,
             "#7201a8"
            ],
            [
             0.3333333333333333,
             "#9c179e"
            ],
            [
             0.4444444444444444,
             "#bd3786"
            ],
            [
             0.5555555555555556,
             "#d8576b"
            ],
            [
             0.6666666666666666,
             "#ed7953"
            ],
            [
             0.7777777777777778,
             "#fb9f3a"
            ],
            [
             0.8888888888888888,
             "#fdca26"
            ],
            [
             1.0,
             "#f0f921"
            ]
           ],
           "sequentialminus": [
            [
             0.0,
             "#0d0887"
            ],
            [
             0.1111111111111111,
             "#46039f"
            ],
            [
             0.2222222222222222,
             "#7201a8"
            ],
            [
             0.3333333333333333,
             "#9c179e"
            ],
            [
             0.4444444444444444,
             "#bd3786"
            ],
            [
             0.5555555555555556,
             "#d8576b"
            ],
            [
             0.6666666666666666,
             "#ed7953"
            ],
            [
             0.7777777777777778,
             "#fb9f3a"
            ],
            [
             0.8888888888888888,
             "#fdca26"
            ],
            [
             1.0,
             "#f0f921"
            ]
           ],
           "diverging": [
            [
             0,
             "#8e0152"
            ],
            [
             0.1,
             "#c51b7d"
            ],
            [
             0.2,
             "#de77ae"
            ],
            [
             0.3,
             "#f1b6da"
            ],
            [
             0.4,
             "#fde0ef"
            ],
            [
             0.5,
             "#f7f7f7"
            ],
            [
             0.6,
             "#e6f5d0"
            ],
            [
             0.7,
             "#b8e186"
            ],
            [
             0.8,
             "#7fbc41"
            ],
            [
             0.9,
             "#4d9221"
            ],
            [
             1,
             "#276419"
            ]
           ]
          },
          "xaxis": {
           "gridcolor": "#283442",
           "linecolor": "#506784",
           "ticks": "",
           "title": {
            "standoff": 15
           },
           "zerolinecolor": "#283442",
           "automargin": true,
           "zerolinewidth": 2
          },
          "yaxis": {
           "gridcolor": "#283442",
           "linecolor": "#506784",
           "ticks": "",
           "title": {
            "standoff": 15
           },
           "zerolinecolor": "#283442",
           "automargin": true,
           "zerolinewidth": 2
          },
          "scene": {
           "xaxis": {
            "backgroundcolor": "rgb(17,17,17)",
            "gridcolor": "#506784",
            "linecolor": "#506784",
            "showbackground": true,
            "ticks": "",
            "zerolinecolor": "#C8D4E3",
            "gridwidth": 2
           },
           "yaxis": {
            "backgroundcolor": "rgb(17,17,17)",
            "gridcolor": "#506784",
            "linecolor": "#506784",
            "showbackground": true,
            "ticks": "",
            "zerolinecolor": "#C8D4E3",
            "gridwidth": 2
           },
           "zaxis": {
            "backgroundcolor": "rgb(17,17,17)",
            "gridcolor": "#506784",
            "linecolor": "#506784",
            "showbackground": true,
            "ticks": "",
            "zerolinecolor": "#C8D4E3",
            "gridwidth": 2
           }
          },
          "shapedefaults": {
           "line": {
            "color": "#f2f5fa"
           }
          },
          "annotationdefaults": {
           "arrowcolor": "#f2f5fa",
           "arrowhead": 0,
           "arrowwidth": 1
          },
          "geo": {
           "bgcolor": "rgb(17,17,17)",
           "landcolor": "rgb(17,17,17)",
           "subunitcolor": "#506784",
           "showland": true,
           "showlakes": true,
           "lakecolor": "rgb(17,17,17)"
          },
          "title": {
           "x": 0.05
          },
          "updatemenudefaults": {
           "bgcolor": "#506784",
           "borderwidth": 0
          },
          "sliderdefaults": {
           "bgcolor": "#C8D4E3",
           "borderwidth": 1,
           "bordercolor": "rgb(17,17,17)",
           "tickwidth": 0
          },
          "mapbox": {
           "style": "dark"
          }
         }
        },
        "xaxis": {
         "anchor": "y",
         "domain": [
          0.0,
          1.0
         ],
         "title": {
          "text": "Actual Delay"
         }
        },
        "yaxis": {
         "anchor": "x",
         "domain": [
          0.0,
          1.0
         ],
         "title": {
          "text": "Predicted Delay"
         }
        },
        "legend": {
         "tracegroupgap": 0
        },
        "title": {
         "text": "Predicted vs Actual Arrival Delay"
        },
        "shapes": [
         {
          "line": {
           "dash": "dot"
          },
          "type": "line",
          "x0": -52.0,
          "x1": 527.0,
          "y0": -52.0,
          "y1": 527.0
         }
        ]
       },
       "config": {
        "plotlyServerURL": "https://plot.ly"
       }
      }
     },
     "metadata": {},
     "output_type": "display_data",
     "jetTransient": {
      "display_id": null
     }
    }
   ],
   "execution_count": 475
  },
  {
   "metadata": {
    "ExecuteTime": {
     "end_time": "2025-10-31T13:14:21.423225Z",
     "start_time": "2025-10-31T13:14:21.391756Z"
    }
   },
   "cell_type": "code",
   "source": [
    "df_compare[\"Error (min)\"] = df_compare[\"Actual Delay\"] - df_compare[\"Predicted Delay\"]\n",
    "\n",
    "fig_err = px.histogram(\n",
    "    df_compare,\n",
    "    x=\"Error (min)\",\n",
    "    nbins=60,\n",
    "    title=\"Distribution of Prediction Error (minutes)\",\n",
    ")\n",
    "\n",
    "fig_err.show()"
   ],
   "id": "89f478c132ec9488",
   "outputs": [
    {
     "data": {
      "application/vnd.plotly.v1+json": {
       "data": [
        {
         "bingroup": "x",
         "hovertemplate": "Error (min)=%{x}<br>count=%{y}<extra></extra>",
         "legendgroup": "",
         "marker": {
          "color": "#636efa",
          "pattern": {
           "shape": ""
          }
         },
         "name": "",
         "nbinsx": 60,
         "orientation": "v",
         "showlegend": false,
         "x": {
          "dtype": "f8",
          "bdata": "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"
         },
         "xaxis": "x",
         "yaxis": "y",
         "type": "histogram"
        }
       ],
       "layout": {
        "template": {
         "data": {
          "histogram2dcontour": [
           {
            "type": "histogram2dcontour",
            "colorbar": {
             "outlinewidth": 0,
             "ticks": ""
            },
            "colorscale": [
             [
              0.0,
              "#0d0887"
             ],
             [
              0.1111111111111111,
              "#46039f"
             ],
             [
              0.2222222222222222,
              "#7201a8"
             ],
             [
              0.3333333333333333,
              "#9c179e"
             ],
             [
              0.4444444444444444,
              "#bd3786"
             ],
             [
              0.5555555555555556,
              "#d8576b"
             ],
             [
              0.6666666666666666,
              "#ed7953"
             ],
             [
              0.7777777777777778,
              "#fb9f3a"
             ],
             [
              0.8888888888888888,
              "#fdca26"
             ],
             [
              1.0,
              "#f0f921"
             ]
            ]
           }
          ],
          "choropleth": [
           {
            "type": "choropleth",
            "colorbar": {
             "outlinewidth": 0,
             "ticks": ""
            }
           }
          ],
          "histogram2d": [
           {
            "type": "histogram2d",
            "colorbar": {
             "outlinewidth": 0,
             "ticks": ""
            },
            "colorscale": [
             [
              0.0,
              "#0d0887"
             ],
             [
              0.1111111111111111,
              "#46039f"
             ],
             [
              0.2222222222222222,
              "#7201a8"
             ],
             [
              0.3333333333333333,
              "#9c179e"
             ],
             [
              0.4444444444444444,
              "#bd3786"
             ],
             [
              0.5555555555555556,
              "#d8576b"
             ],
             [
              0.6666666666666666,
              "#ed7953"
             ],
             [
              0.7777777777777778,
              "#fb9f3a"
             ],
             [
              0.8888888888888888,
              "#fdca26"
             ],
             [
              1.0,
              "#f0f921"
             ]
            ]
           }
          ],
          "heatmap": [
           {
            "type": "heatmap",
            "colorbar": {
             "outlinewidth": 0,
             "ticks": ""
            },
            "colorscale": [
             [
              0.0,
              "#0d0887"
             ],
             [
              0.1111111111111111,
              "#46039f"
             ],
             [
              0.2222222222222222,
              "#7201a8"
             ],
             [
              0.3333333333333333,
              "#9c179e"
             ],
             [
              0.4444444444444444,
              "#bd3786"
             ],
             [
              0.5555555555555556,
              "#d8576b"
             ],
             [
              0.6666666666666666,
              "#ed7953"
             ],
             [
              0.7777777777777778,
              "#fb9f3a"
             ],
             [
              0.8888888888888888,
              "#fdca26"
             ],
             [
              1.0,
              "#f0f921"
             ]
            ]
           }
          ],
          "contourcarpet": [
           {
            "type": "contourcarpet",
            "colorbar": {
             "outlinewidth": 0,
             "ticks": ""
            }
           }
          ],
          "contour": [
           {
            "type": "contour",
            "colorbar": {
             "outlinewidth": 0,
             "ticks": ""
            },
            "colorscale": [
             [
              0.0,
              "#0d0887"
             ],
             [
              0.1111111111111111,
              "#46039f"
             ],
             [
              0.2222222222222222,
              "#7201a8"
             ],
             [
              0.3333333333333333,
              "#9c179e"
             ],
             [
              0.4444444444444444,
              "#bd3786"
             ],
             [
              0.5555555555555556,
              "#d8576b"
             ],
             [
              0.6666666666666666,
              "#ed7953"
             ],
             [
              0.7777777777777778,
              "#fb9f3a"
             ],
             [
              0.8888888888888888,
              "#fdca26"
             ],
             [
              1.0,
              "#f0f921"
             ]
            ]
           }
          ],
          "surface": [
           {
            "type": "surface",
            "colorbar": {
             "outlinewidth": 0,
             "ticks": ""
            },
            "colorscale": [
             [
              0.0,
              "#0d0887"
             ],
             [
              0.1111111111111111,
              "#46039f"
             ],
             [
              0.2222222222222222,
              "#7201a8"
             ],
             [
              0.3333333333333333,
              "#9c179e"
             ],
             [
              0.4444444444444444,
              "#bd3786"
             ],
             [
              0.5555555555555556,
              "#d8576b"
             ],
             [
              0.6666666666666666,
              "#ed7953"
             ],
             [
              0.7777777777777778,
              "#fb9f3a"
             ],
             [
              0.8888888888888888,
              "#fdca26"
             ],
             [
              1.0,
              "#f0f921"
             ]
            ]
           }
          ],
          "mesh3d": [
           {
            "type": "mesh3d",
            "colorbar": {
             "outlinewidth": 0,
             "ticks": ""
            }
           }
          ],
          "scatter": [
           {
            "marker": {
             "line": {
              "color": "#283442"
             }
            },
            "type": "scatter"
           }
          ],
          "parcoords": [
           {
            "type": "parcoords",
            "line": {
             "colorbar": {
              "outlinewidth": 0,
              "ticks": ""
             }
            }
           }
          ],
          "scatterpolargl": [
           {
            "type": "scatterpolargl",
            "marker": {
             "colorbar": {
              "outlinewidth": 0,
              "ticks": ""
             }
            }
           }
          ],
          "bar": [
           {
            "error_x": {
             "color": "#f2f5fa"
            },
            "error_y": {
             "color": "#f2f5fa"
            },
            "marker": {
             "line": {
              "color": "rgb(17,17,17)",
              "width": 0.5
             },
             "pattern": {
              "fillmode": "overlay",
              "size": 10,
              "solidity": 0.2
             }
            },
            "type": "bar"
           }
          ],
          "scattergeo": [
           {
            "type": "scattergeo",
            "marker": {
             "colorbar": {
              "outlinewidth": 0,
              "ticks": ""
             }
            }
           }
          ],
          "scatterpolar": [
           {
            "type": "scatterpolar",
            "marker": {
             "colorbar": {
              "outlinewidth": 0,
              "ticks": ""
             }
            }
           }
          ],
          "histogram": [
           {
            "marker": {
             "pattern": {
              "fillmode": "overlay",
              "size": 10,
              "solidity": 0.2
             }
            },
            "type": "histogram"
           }
          ],
          "scattergl": [
           {
            "marker": {
             "line": {
              "color": "#283442"
             }
            },
            "type": "scattergl"
           }
          ],
          "scatter3d": [
           {
            "type": "scatter3d",
            "line": {
             "colorbar": {
              "outlinewidth": 0,
              "ticks": ""
             }
            },
            "marker": {
             "colorbar": {
              "outlinewidth": 0,
              "ticks": ""
             }
            }
           }
          ],
          "scattermap": [
           {
            "type": "scattermap",
            "marker": {
             "colorbar": {
              "outlinewidth": 0,
              "ticks": ""
             }
            }
           }
          ],
          "scattermapbox": [
           {
            "type": "scattermapbox",
            "marker": {
             "colorbar": {
              "outlinewidth": 0,
              "ticks": ""
             }
            }
           }
          ],
          "scatterternary": [
           {
            "type": "scatterternary",
            "marker": {
             "colorbar": {
              "outlinewidth": 0,
              "ticks": ""
             }
            }
           }
          ],
          "scattercarpet": [
           {
            "type": "scattercarpet",
            "marker": {
             "colorbar": {
              "outlinewidth": 0,
              "ticks": ""
             }
            }
           }
          ],
          "carpet": [
           {
            "aaxis": {
             "endlinecolor": "#A2B1C6",
             "gridcolor": "#506784",
             "linecolor": "#506784",
             "minorgridcolor": "#506784",
             "startlinecolor": "#A2B1C6"
            },
            "baxis": {
             "endlinecolor": "#A2B1C6",
             "gridcolor": "#506784",
             "linecolor": "#506784",
             "minorgridcolor": "#506784",
             "startlinecolor": "#A2B1C6"
            },
            "type": "carpet"
           }
          ],
          "table": [
           {
            "cells": {
             "fill": {
              "color": "#506784"
             },
             "line": {
              "color": "rgb(17,17,17)"
             }
            },
            "header": {
             "fill": {
              "color": "#2a3f5f"
             },
             "line": {
              "color": "rgb(17,17,17)"
             }
            },
            "type": "table"
           }
          ],
          "barpolar": [
           {
            "marker": {
             "line": {
              "color": "rgb(17,17,17)",
              "width": 0.5
             },
             "pattern": {
              "fillmode": "overlay",
              "size": 10,
              "solidity": 0.2
             }
            },
            "type": "barpolar"
           }
          ],
          "pie": [
           {
            "automargin": true,
            "type": "pie"
           }
          ]
         },
         "layout": {
          "autotypenumbers": "strict",
          "colorway": [
           "#636efa",
           "#EF553B",
           "#00cc96",
           "#ab63fa",
           "#FFA15A",
           "#19d3f3",
           "#FF6692",
           "#B6E880",
           "#FF97FF",
           "#FECB52"
          ],
          "font": {
           "color": "#f2f5fa"
          },
          "hovermode": "closest",
          "hoverlabel": {
           "align": "left"
          },
          "paper_bgcolor": "rgb(17,17,17)",
          "plot_bgcolor": "rgb(17,17,17)",
          "polar": {
           "bgcolor": "rgb(17,17,17)",
           "angularaxis": {
            "gridcolor": "#506784",
            "linecolor": "#506784",
            "ticks": ""
           },
           "radialaxis": {
            "gridcolor": "#506784",
            "linecolor": "#506784",
            "ticks": ""
           }
          },
          "ternary": {
           "bgcolor": "rgb(17,17,17)",
           "aaxis": {
            "gridcolor": "#506784",
            "linecolor": "#506784",
            "ticks": ""
           },
           "baxis": {
            "gridcolor": "#506784",
            "linecolor": "#506784",
            "ticks": ""
           },
           "caxis": {
            "gridcolor": "#506784",
            "linecolor": "#506784",
            "ticks": ""
           }
          },
          "coloraxis": {
           "colorbar": {
            "outlinewidth": 0,
            "ticks": ""
           }
          },
          "colorscale": {
           "sequential": [
            [
             0.0,
             "#0d0887"
            ],
            [
             0.1111111111111111,
             "#46039f"
            ],
            [
             0.2222222222222222,
             "#7201a8"
            ],
            [
             0.3333333333333333,
             "#9c179e"
            ],
            [
             0.4444444444444444,
             "#bd3786"
            ],
            [
             0.5555555555555556,
             "#d8576b"
            ],
            [
             0.6666666666666666,
             "#ed7953"
            ],
            [
             0.7777777777777778,
             "#fb9f3a"
            ],
            [
             0.8888888888888888,
             "#fdca26"
            ],
            [
             1.0,
             "#f0f921"
            ]
           ],
           "sequentialminus": [
            [
             0.0,
             "#0d0887"
            ],
            [
             0.1111111111111111,
             "#46039f"
            ],
            [
             0.2222222222222222,
             "#7201a8"
            ],
            [
             0.3333333333333333,
             "#9c179e"
            ],
            [
             0.4444444444444444,
             "#bd3786"
            ],
            [
             0.5555555555555556,
             "#d8576b"
            ],
            [
             0.6666666666666666,
             "#ed7953"
            ],
            [
             0.7777777777777778,
             "#fb9f3a"
            ],
            [
             0.8888888888888888,
             "#fdca26"
            ],
            [
             1.0,
             "#f0f921"
            ]
           ],
           "diverging": [
            [
             0,
             "#8e0152"
            ],
            [
             0.1,
             "#c51b7d"
            ],
            [
             0.2,
             "#de77ae"
            ],
            [
             0.3,
             "#f1b6da"
            ],
            [
             0.4,
             "#fde0ef"
            ],
            [
             0.5,
             "#f7f7f7"
            ],
            [
             0.6,
             "#e6f5d0"
            ],
            [
             0.7,
             "#b8e186"
            ],
            [
             0.8,
             "#7fbc41"
            ],
            [
             0.9,
             "#4d9221"
            ],
            [
             1,
             "#276419"
            ]
           ]
          },
          "xaxis": {
           "gridcolor": "#283442",
           "linecolor": "#506784",
           "ticks": "",
           "title": {
            "standoff": 15
           },
           "zerolinecolor": "#283442",
           "automargin": true,
           "zerolinewidth": 2
          },
          "yaxis": {
           "gridcolor": "#283442",
           "linecolor": "#506784",
           "ticks": "",
           "title": {
            "standoff": 15
           },
           "zerolinecolor": "#283442",
           "automargin": true,
           "zerolinewidth": 2
          },
          "scene": {
           "xaxis": {
            "backgroundcolor": "rgb(17,17,17)",
            "gridcolor": "#506784",
            "linecolor": "#506784",
            "showbackground": true,
            "ticks": "",
            "zerolinecolor": "#C8D4E3",
            "gridwidth": 2
           },
           "yaxis": {
            "backgroundcolor": "rgb(17,17,17)",
            "gridcolor": "#506784",
            "linecolor": "#506784",
            "showbackground": true,
            "ticks": "",
            "zerolinecolor": "#C8D4E3",
            "gridwidth": 2
           },
           "zaxis": {
            "backgroundcolor": "rgb(17,17,17)",
            "gridcolor": "#506784",
            "linecolor": "#506784",
            "showbackground": true,
            "ticks": "",
            "zerolinecolor": "#C8D4E3",
            "gridwidth": 2
           }
          },
          "shapedefaults": {
           "line": {
            "color": "#f2f5fa"
           }
          },
          "annotationdefaults": {
           "arrowcolor": "#f2f5fa",
           "arrowhead": 0,
           "arrowwidth": 1
          },
          "geo": {
           "bgcolor": "rgb(17,17,17)",
           "landcolor": "rgb(17,17,17)",
           "subunitcolor": "#506784",
           "showland": true,
           "showlakes": true,
           "lakecolor": "rgb(17,17,17)"
          },
          "title": {
           "x": 0.05
          },
          "updatemenudefaults": {
           "bgcolor": "#506784",
           "borderwidth": 0
          },
          "sliderdefaults": {
           "bgcolor": "#C8D4E3",
           "borderwidth": 1,
           "bordercolor": "rgb(17,17,17)",
           "tickwidth": 0
          },
          "mapbox": {
           "style": "dark"
          }
         }
        },
        "xaxis": {
         "anchor": "y",
         "domain": [
          0.0,
          1.0
         ],
         "title": {
          "text": "Error (min)"
         }
        },
        "yaxis": {
         "anchor": "x",
         "domain": [
          0.0,
          1.0
         ],
         "title": {
          "text": "count"
         }
        },
        "legend": {
         "tracegroupgap": 0
        },
        "title": {
         "text": "Distribution of Prediction Error (minutes)"
        },
        "barmode": "relative"
       },
       "config": {
        "plotlyServerURL": "https://plot.ly"
       }
      }
     },
     "metadata": {},
     "output_type": "display_data",
     "jetTransient": {
      "display_id": null
     }
    }
   ],
   "execution_count": 476
  }
 ],
 "metadata": {
  "kernelspec": {
   "display_name": "Python 3",
   "language": "python",
   "name": "python3"
  },
  "language_info": {
   "codemirror_mode": {
    "name": "ipython",
    "version": 2
   },
   "file_extension": ".py",
   "mimetype": "text/x-python",
   "name": "python",
   "nbconvert_exporter": "python",
   "pygments_lexer": "ipython2",
   "version": "2.7.6"
  }
 },
 "nbformat": 4,
 "nbformat_minor": 5
}
