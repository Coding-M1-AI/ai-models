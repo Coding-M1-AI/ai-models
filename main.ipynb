{
 "cells": [
  {
   "metadata": {
    "ExecuteTime": {
     "end_time": "2025-10-31T11:33:21.017139Z",
     "start_time": "2025-10-31T11:33:21.013481Z"
    }
   },
   "cell_type": "code",
   "source": [
    "import pandas as pd\n",
    "import plotly.express as px\n",
    "from sklearn.model_selection import train_test_split\n",
    "from sklearn.compose import ColumnTransformer\n",
    "from sklearn.preprocessing import StandardScaler\n",
    "from category_encoders import OrdinalEncoder\n",
    "from sklearn.pipeline import Pipeline\n",
    "from sklearn.ensemble import RandomForestRegressor\n",
    "from sklearn.metrics import mean_absolute_error, r2_score"
   ],
   "id": "116e46afc39cda3f",
   "outputs": [],
   "execution_count": 255
  },
  {
   "metadata": {
    "ExecuteTime": {
     "end_time": "2025-10-31T11:33:31.663781Z",
     "start_time": "2025-10-31T11:33:21.025625Z"
    }
   },
   "cell_type": "code",
   "source": "raw_df = pd.read_csv(\"./files/flights.csv\", low_memory=False)",
   "id": "2041023175e5b641",
   "outputs": [],
   "execution_count": 256
  },
  {
   "metadata": {
    "ExecuteTime": {
     "end_time": "2025-10-31T11:33:32.189189Z",
     "start_time": "2025-10-31T11:33:31.670114Z"
    }
   },
   "cell_type": "code",
   "source": [
    "# Remove rows with missing ARRIVAL_DELAY values\n",
    "df = raw_df[raw_df.ARRIVAL_DELAY.isna() == False]"
   ],
   "id": "6c7a5864b684333d",
   "outputs": [],
   "execution_count": 257
  },
  {
   "metadata": {
    "ExecuteTime": {
     "end_time": "2025-10-31T11:33:32.378373Z",
     "start_time": "2025-10-31T11:33:32.194941Z"
    }
   },
   "cell_type": "code",
   "source": [
    "# Keep only necessary columns\n",
    "# cols = [\"MONTH\", \"DAY\", \"DAY_OF_WEEK\", \"AIRLINE\", \"ORIGIN_AIRPORT\", \"DESTINATION_AIRPORT\", \"SCHEDULED_DEPARTURE\", \"DEPARTURE_DELAY\", \"SCHEDULED_ARRIVAL\", \"ARRIVAL_DELAY\", \"DISTANCE\"]\n",
    "cols = [\"AIRLINE\", \"ORIGIN_AIRPORT\", \"DESTINATION_AIRPORT\", \"DEPARTURE_DELAY\", \"ARRIVAL_DELAY\"]\n",
    "df = df[cols]"
   ],
   "id": "f80c25c1d67ed7bc",
   "outputs": [],
   "execution_count": 258
  },
  {
   "metadata": {
    "ExecuteTime": {
     "end_time": "2025-10-31T11:33:32.968436Z",
     "start_time": "2025-10-31T11:33:32.386230Z"
    }
   },
   "cell_type": "code",
   "source": [
    "# Get 10k random samples\n",
    "df = df.sample(n=10000, random_state=42)\n",
    "print(df.shape)"
   ],
   "id": "a5d69d48664d000c",
   "outputs": [
    {
     "name": "stdout",
     "output_type": "stream",
     "text": [
      "(10000, 5)\n"
     ]
    }
   ],
   "execution_count": 259
  },
  {
   "metadata": {
    "ExecuteTime": {
     "end_time": "2025-10-31T11:33:32.978895Z",
     "start_time": "2025-10-31T11:33:32.976039Z"
    }
   },
   "cell_type": "code",
   "source": [
    "# fig = px.histogram(df, x=df.MONTH, y=\"ARRIVAL_DELAY\")\n",
    "# fig.show();"
   ],
   "id": "14741ea63a2d2cb0",
   "outputs": [],
   "execution_count": 260
  },
  {
   "metadata": {
    "ExecuteTime": {
     "end_time": "2025-10-31T11:33:32.997218Z",
     "start_time": "2025-10-31T11:33:32.993109Z"
    }
   },
   "cell_type": "code",
   "source": [
    "X = df.drop(\"ARRIVAL_DELAY\", axis=1)\n",
    "y = df[\"ARRIVAL_DELAY\"]"
   ],
   "id": "52e0f130bca7da1f",
   "outputs": [],
   "execution_count": 261
  },
  {
   "metadata": {
    "ExecuteTime": {
     "end_time": "2025-10-31T11:33:33.008618Z",
     "start_time": "2025-10-31T11:33:33.005650Z"
    }
   },
   "cell_type": "code",
   "source": [
    "categorical_features = [\"ORIGIN_AIRPORT\", \"DESTINATION_AIRPORT\", \"AIRLINE\"]\n",
    "numeric_features = [c for c in X.columns if c not in categorical_features]"
   ],
   "id": "99f5fdf5794c06ba",
   "outputs": [],
   "execution_count": 262
  },
  {
   "metadata": {
    "ExecuteTime": {
     "end_time": "2025-10-31T11:33:33.019594Z",
     "start_time": "2025-10-31T11:33:33.016111Z"
    }
   },
   "cell_type": "code",
   "source": [
    "# Pipelines\n",
    "numeric_transformer = Pipeline(steps=[\n",
    "    (\"scaler\", StandardScaler())\n",
    "])\n",
    "\n",
    "categorical_transformer = Pipeline(steps=[\n",
    "    (\"encoder\", OrdinalEncoder(cols=categorical_features))\n",
    "])\n",
    "\n",
    "preprocessor = ColumnTransformer(\n",
    "    transformers=[\n",
    "        (\"num\", numeric_transformer, numeric_features),\n",
    "        (\"cat\", categorical_transformer, categorical_features),\n",
    "    ]\n",
    ")\n",
    "\n",
    "model = Pipeline([\n",
    "    (\"preprocess\", preprocessor),\n",
    "    (\"rf\", RandomForestRegressor(\n",
    "        n_estimators=100, # Tree number\n",
    "        random_state=0,\n",
    "        max_features=2,\n",
    "        # max_depth=20, # Node number\n",
    "    ))\n",
    "])"
   ],
   "id": "55c3c206bdb1c929",
   "outputs": [],
   "execution_count": 263
  },
  {
   "metadata": {
    "ExecuteTime": {
     "end_time": "2025-10-31T11:33:33.030412Z",
     "start_time": "2025-10-31T11:33:33.025087Z"
    }
   },
   "cell_type": "code",
   "source": "X_train, X_test, y_train, y_test = train_test_split(X, y, test_size=0.33, random_state=42)",
   "id": "aef8306bc2582b70",
   "outputs": [],
   "execution_count": 264
  },
  {
   "metadata": {
    "ExecuteTime": {
     "end_time": "2025-10-31T11:33:33.937648Z",
     "start_time": "2025-10-31T11:33:33.036369Z"
    }
   },
   "cell_type": "code",
   "source": [
    "# Train\n",
    "model.fit(X_train, y_train)"
   ],
   "id": "d2a5e1176c01a70d",
   "outputs": [
    {
     "data": {
      "text/plain": [
       "Pipeline(steps=[('preprocess',\n",
       "                 ColumnTransformer(transformers=[('num',\n",
       "                                                  Pipeline(steps=[('scaler',\n",
       "                                                                   StandardScaler())]),\n",
       "                                                  ['DEPARTURE_DELAY']),\n",
       "                                                 ('cat',\n",
       "                                                  Pipeline(steps=[('encoder',\n",
       "                                                                   OrdinalEncoder(cols=['ORIGIN_AIRPORT',\n",
       "                                                                                        'DESTINATION_AIRPORT',\n",
       "                                                                                        'AIRLINE']))]),\n",
       "                                                  ['ORIGIN_AIRPORT',\n",
       "                                                   'DESTINATION_AIRPORT',\n",
       "                                                   'AIRLINE'])])),\n",
       "                ('rf', RandomForestRegressor(max_features=2, random_state=0))])"
      ],
      "text/html": [
       "<style>#sk-container-id-17 {\n",
       "  /* Definition of color scheme common for light and dark mode */\n",
       "  --sklearn-color-text: #000;\n",
       "  --sklearn-color-text-muted: #666;\n",
       "  --sklearn-color-line: gray;\n",
       "  /* Definition of color scheme for unfitted estimators */\n",
       "  --sklearn-color-unfitted-level-0: #fff5e6;\n",
       "  --sklearn-color-unfitted-level-1: #f6e4d2;\n",
       "  --sklearn-color-unfitted-level-2: #ffe0b3;\n",
       "  --sklearn-color-unfitted-level-3: chocolate;\n",
       "  /* Definition of color scheme for fitted estimators */\n",
       "  --sklearn-color-fitted-level-0: #f0f8ff;\n",
       "  --sklearn-color-fitted-level-1: #d4ebff;\n",
       "  --sklearn-color-fitted-level-2: #b3dbfd;\n",
       "  --sklearn-color-fitted-level-3: cornflowerblue;\n",
       "\n",
       "  /* Specific color for light theme */\n",
       "  --sklearn-color-text-on-default-background: var(--sg-text-color, var(--theme-code-foreground, var(--jp-content-font-color1, black)));\n",
       "  --sklearn-color-background: var(--sg-background-color, var(--theme-background, var(--jp-layout-color0, white)));\n",
       "  --sklearn-color-border-box: var(--sg-text-color, var(--theme-code-foreground, var(--jp-content-font-color1, black)));\n",
       "  --sklearn-color-icon: #696969;\n",
       "\n",
       "  @media (prefers-color-scheme: dark) {\n",
       "    /* Redefinition of color scheme for dark theme */\n",
       "    --sklearn-color-text-on-default-background: var(--sg-text-color, var(--theme-code-foreground, var(--jp-content-font-color1, white)));\n",
       "    --sklearn-color-background: var(--sg-background-color, var(--theme-background, var(--jp-layout-color0, #111)));\n",
       "    --sklearn-color-border-box: var(--sg-text-color, var(--theme-code-foreground, var(--jp-content-font-color1, white)));\n",
       "    --sklearn-color-icon: #878787;\n",
       "  }\n",
       "}\n",
       "\n",
       "#sk-container-id-17 {\n",
       "  color: var(--sklearn-color-text);\n",
       "}\n",
       "\n",
       "#sk-container-id-17 pre {\n",
       "  padding: 0;\n",
       "}\n",
       "\n",
       "#sk-container-id-17 input.sk-hidden--visually {\n",
       "  border: 0;\n",
       "  clip: rect(1px 1px 1px 1px);\n",
       "  clip: rect(1px, 1px, 1px, 1px);\n",
       "  height: 1px;\n",
       "  margin: -1px;\n",
       "  overflow: hidden;\n",
       "  padding: 0;\n",
       "  position: absolute;\n",
       "  width: 1px;\n",
       "}\n",
       "\n",
       "#sk-container-id-17 div.sk-dashed-wrapped {\n",
       "  border: 1px dashed var(--sklearn-color-line);\n",
       "  margin: 0 0.4em 0.5em 0.4em;\n",
       "  box-sizing: border-box;\n",
       "  padding-bottom: 0.4em;\n",
       "  background-color: var(--sklearn-color-background);\n",
       "}\n",
       "\n",
       "#sk-container-id-17 div.sk-container {\n",
       "  /* jupyter's `normalize.less` sets `[hidden] { display: none; }`\n",
       "     but bootstrap.min.css set `[hidden] { display: none !important; }`\n",
       "     so we also need the `!important` here to be able to override the\n",
       "     default hidden behavior on the sphinx rendered scikit-learn.org.\n",
       "     See: https://github.com/scikit-learn/scikit-learn/issues/21755 */\n",
       "  display: inline-block !important;\n",
       "  position: relative;\n",
       "}\n",
       "\n",
       "#sk-container-id-17 div.sk-text-repr-fallback {\n",
       "  display: none;\n",
       "}\n",
       "\n",
       "div.sk-parallel-item,\n",
       "div.sk-serial,\n",
       "div.sk-item {\n",
       "  /* draw centered vertical line to link estimators */\n",
       "  background-image: linear-gradient(var(--sklearn-color-text-on-default-background), var(--sklearn-color-text-on-default-background));\n",
       "  background-size: 2px 100%;\n",
       "  background-repeat: no-repeat;\n",
       "  background-position: center center;\n",
       "}\n",
       "\n",
       "/* Parallel-specific style estimator block */\n",
       "\n",
       "#sk-container-id-17 div.sk-parallel-item::after {\n",
       "  content: \"\";\n",
       "  width: 100%;\n",
       "  border-bottom: 2px solid var(--sklearn-color-text-on-default-background);\n",
       "  flex-grow: 1;\n",
       "}\n",
       "\n",
       "#sk-container-id-17 div.sk-parallel {\n",
       "  display: flex;\n",
       "  align-items: stretch;\n",
       "  justify-content: center;\n",
       "  background-color: var(--sklearn-color-background);\n",
       "  position: relative;\n",
       "}\n",
       "\n",
       "#sk-container-id-17 div.sk-parallel-item {\n",
       "  display: flex;\n",
       "  flex-direction: column;\n",
       "}\n",
       "\n",
       "#sk-container-id-17 div.sk-parallel-item:first-child::after {\n",
       "  align-self: flex-end;\n",
       "  width: 50%;\n",
       "}\n",
       "\n",
       "#sk-container-id-17 div.sk-parallel-item:last-child::after {\n",
       "  align-self: flex-start;\n",
       "  width: 50%;\n",
       "}\n",
       "\n",
       "#sk-container-id-17 div.sk-parallel-item:only-child::after {\n",
       "  width: 0;\n",
       "}\n",
       "\n",
       "/* Serial-specific style estimator block */\n",
       "\n",
       "#sk-container-id-17 div.sk-serial {\n",
       "  display: flex;\n",
       "  flex-direction: column;\n",
       "  align-items: center;\n",
       "  background-color: var(--sklearn-color-background);\n",
       "  padding-right: 1em;\n",
       "  padding-left: 1em;\n",
       "}\n",
       "\n",
       "\n",
       "/* Toggleable style: style used for estimator/Pipeline/ColumnTransformer box that is\n",
       "clickable and can be expanded/collapsed.\n",
       "- Pipeline and ColumnTransformer use this feature and define the default style\n",
       "- Estimators will overwrite some part of the style using the `sk-estimator` class\n",
       "*/\n",
       "\n",
       "/* Pipeline and ColumnTransformer style (default) */\n",
       "\n",
       "#sk-container-id-17 div.sk-toggleable {\n",
       "  /* Default theme specific background. It is overwritten whether we have a\n",
       "  specific estimator or a Pipeline/ColumnTransformer */\n",
       "  background-color: var(--sklearn-color-background);\n",
       "}\n",
       "\n",
       "/* Toggleable label */\n",
       "#sk-container-id-17 label.sk-toggleable__label {\n",
       "  cursor: pointer;\n",
       "  display: flex;\n",
       "  width: 100%;\n",
       "  margin-bottom: 0;\n",
       "  padding: 0.5em;\n",
       "  box-sizing: border-box;\n",
       "  text-align: center;\n",
       "  align-items: start;\n",
       "  justify-content: space-between;\n",
       "  gap: 0.5em;\n",
       "}\n",
       "\n",
       "#sk-container-id-17 label.sk-toggleable__label .caption {\n",
       "  font-size: 0.6rem;\n",
       "  font-weight: lighter;\n",
       "  color: var(--sklearn-color-text-muted);\n",
       "}\n",
       "\n",
       "#sk-container-id-17 label.sk-toggleable__label-arrow:before {\n",
       "  /* Arrow on the left of the label */\n",
       "  content: \"▸\";\n",
       "  float: left;\n",
       "  margin-right: 0.25em;\n",
       "  color: var(--sklearn-color-icon);\n",
       "}\n",
       "\n",
       "#sk-container-id-17 label.sk-toggleable__label-arrow:hover:before {\n",
       "  color: var(--sklearn-color-text);\n",
       "}\n",
       "\n",
       "/* Toggleable content - dropdown */\n",
       "\n",
       "#sk-container-id-17 div.sk-toggleable__content {\n",
       "  display: none;\n",
       "  text-align: left;\n",
       "  /* unfitted */\n",
       "  background-color: var(--sklearn-color-unfitted-level-0);\n",
       "}\n",
       "\n",
       "#sk-container-id-17 div.sk-toggleable__content.fitted {\n",
       "  /* fitted */\n",
       "  background-color: var(--sklearn-color-fitted-level-0);\n",
       "}\n",
       "\n",
       "#sk-container-id-17 div.sk-toggleable__content pre {\n",
       "  margin: 0.2em;\n",
       "  border-radius: 0.25em;\n",
       "  color: var(--sklearn-color-text);\n",
       "  /* unfitted */\n",
       "  background-color: var(--sklearn-color-unfitted-level-0);\n",
       "}\n",
       "\n",
       "#sk-container-id-17 div.sk-toggleable__content.fitted pre {\n",
       "  /* unfitted */\n",
       "  background-color: var(--sklearn-color-fitted-level-0);\n",
       "}\n",
       "\n",
       "#sk-container-id-17 input.sk-toggleable__control:checked~div.sk-toggleable__content {\n",
       "  /* Expand drop-down */\n",
       "  display: block;\n",
       "  width: 100%;\n",
       "  overflow: visible;\n",
       "}\n",
       "\n",
       "#sk-container-id-17 input.sk-toggleable__control:checked~label.sk-toggleable__label-arrow:before {\n",
       "  content: \"▾\";\n",
       "}\n",
       "\n",
       "/* Pipeline/ColumnTransformer-specific style */\n",
       "\n",
       "#sk-container-id-17 div.sk-label input.sk-toggleable__control:checked~label.sk-toggleable__label {\n",
       "  color: var(--sklearn-color-text);\n",
       "  background-color: var(--sklearn-color-unfitted-level-2);\n",
       "}\n",
       "\n",
       "#sk-container-id-17 div.sk-label.fitted input.sk-toggleable__control:checked~label.sk-toggleable__label {\n",
       "  background-color: var(--sklearn-color-fitted-level-2);\n",
       "}\n",
       "\n",
       "/* Estimator-specific style */\n",
       "\n",
       "/* Colorize estimator box */\n",
       "#sk-container-id-17 div.sk-estimator input.sk-toggleable__control:checked~label.sk-toggleable__label {\n",
       "  /* unfitted */\n",
       "  background-color: var(--sklearn-color-unfitted-level-2);\n",
       "}\n",
       "\n",
       "#sk-container-id-17 div.sk-estimator.fitted input.sk-toggleable__control:checked~label.sk-toggleable__label {\n",
       "  /* fitted */\n",
       "  background-color: var(--sklearn-color-fitted-level-2);\n",
       "}\n",
       "\n",
       "#sk-container-id-17 div.sk-label label.sk-toggleable__label,\n",
       "#sk-container-id-17 div.sk-label label {\n",
       "  /* The background is the default theme color */\n",
       "  color: var(--sklearn-color-text-on-default-background);\n",
       "}\n",
       "\n",
       "/* On hover, darken the color of the background */\n",
       "#sk-container-id-17 div.sk-label:hover label.sk-toggleable__label {\n",
       "  color: var(--sklearn-color-text);\n",
       "  background-color: var(--sklearn-color-unfitted-level-2);\n",
       "}\n",
       "\n",
       "/* Label box, darken color on hover, fitted */\n",
       "#sk-container-id-17 div.sk-label.fitted:hover label.sk-toggleable__label.fitted {\n",
       "  color: var(--sklearn-color-text);\n",
       "  background-color: var(--sklearn-color-fitted-level-2);\n",
       "}\n",
       "\n",
       "/* Estimator label */\n",
       "\n",
       "#sk-container-id-17 div.sk-label label {\n",
       "  font-family: monospace;\n",
       "  font-weight: bold;\n",
       "  display: inline-block;\n",
       "  line-height: 1.2em;\n",
       "}\n",
       "\n",
       "#sk-container-id-17 div.sk-label-container {\n",
       "  text-align: center;\n",
       "}\n",
       "\n",
       "/* Estimator-specific */\n",
       "#sk-container-id-17 div.sk-estimator {\n",
       "  font-family: monospace;\n",
       "  border: 1px dotted var(--sklearn-color-border-box);\n",
       "  border-radius: 0.25em;\n",
       "  box-sizing: border-box;\n",
       "  margin-bottom: 0.5em;\n",
       "  /* unfitted */\n",
       "  background-color: var(--sklearn-color-unfitted-level-0);\n",
       "}\n",
       "\n",
       "#sk-container-id-17 div.sk-estimator.fitted {\n",
       "  /* fitted */\n",
       "  background-color: var(--sklearn-color-fitted-level-0);\n",
       "}\n",
       "\n",
       "/* on hover */\n",
       "#sk-container-id-17 div.sk-estimator:hover {\n",
       "  /* unfitted */\n",
       "  background-color: var(--sklearn-color-unfitted-level-2);\n",
       "}\n",
       "\n",
       "#sk-container-id-17 div.sk-estimator.fitted:hover {\n",
       "  /* fitted */\n",
       "  background-color: var(--sklearn-color-fitted-level-2);\n",
       "}\n",
       "\n",
       "/* Specification for estimator info (e.g. \"i\" and \"?\") */\n",
       "\n",
       "/* Common style for \"i\" and \"?\" */\n",
       "\n",
       ".sk-estimator-doc-link,\n",
       "a:link.sk-estimator-doc-link,\n",
       "a:visited.sk-estimator-doc-link {\n",
       "  float: right;\n",
       "  font-size: smaller;\n",
       "  line-height: 1em;\n",
       "  font-family: monospace;\n",
       "  background-color: var(--sklearn-color-background);\n",
       "  border-radius: 1em;\n",
       "  height: 1em;\n",
       "  width: 1em;\n",
       "  text-decoration: none !important;\n",
       "  margin-left: 0.5em;\n",
       "  text-align: center;\n",
       "  /* unfitted */\n",
       "  border: var(--sklearn-color-unfitted-level-1) 1pt solid;\n",
       "  color: var(--sklearn-color-unfitted-level-1);\n",
       "}\n",
       "\n",
       ".sk-estimator-doc-link.fitted,\n",
       "a:link.sk-estimator-doc-link.fitted,\n",
       "a:visited.sk-estimator-doc-link.fitted {\n",
       "  /* fitted */\n",
       "  border: var(--sklearn-color-fitted-level-1) 1pt solid;\n",
       "  color: var(--sklearn-color-fitted-level-1);\n",
       "}\n",
       "\n",
       "/* On hover */\n",
       "div.sk-estimator:hover .sk-estimator-doc-link:hover,\n",
       ".sk-estimator-doc-link:hover,\n",
       "div.sk-label-container:hover .sk-estimator-doc-link:hover,\n",
       ".sk-estimator-doc-link:hover {\n",
       "  /* unfitted */\n",
       "  background-color: var(--sklearn-color-unfitted-level-3);\n",
       "  color: var(--sklearn-color-background);\n",
       "  text-decoration: none;\n",
       "}\n",
       "\n",
       "div.sk-estimator.fitted:hover .sk-estimator-doc-link.fitted:hover,\n",
       ".sk-estimator-doc-link.fitted:hover,\n",
       "div.sk-label-container:hover .sk-estimator-doc-link.fitted:hover,\n",
       ".sk-estimator-doc-link.fitted:hover {\n",
       "  /* fitted */\n",
       "  background-color: var(--sklearn-color-fitted-level-3);\n",
       "  color: var(--sklearn-color-background);\n",
       "  text-decoration: none;\n",
       "}\n",
       "\n",
       "/* Span, style for the box shown on hovering the info icon */\n",
       ".sk-estimator-doc-link span {\n",
       "  display: none;\n",
       "  z-index: 9999;\n",
       "  position: relative;\n",
       "  font-weight: normal;\n",
       "  right: .2ex;\n",
       "  padding: .5ex;\n",
       "  margin: .5ex;\n",
       "  width: min-content;\n",
       "  min-width: 20ex;\n",
       "  max-width: 50ex;\n",
       "  color: var(--sklearn-color-text);\n",
       "  box-shadow: 2pt 2pt 4pt #999;\n",
       "  /* unfitted */\n",
       "  background: var(--sklearn-color-unfitted-level-0);\n",
       "  border: .5pt solid var(--sklearn-color-unfitted-level-3);\n",
       "}\n",
       "\n",
       ".sk-estimator-doc-link.fitted span {\n",
       "  /* fitted */\n",
       "  background: var(--sklearn-color-fitted-level-0);\n",
       "  border: var(--sklearn-color-fitted-level-3);\n",
       "}\n",
       "\n",
       ".sk-estimator-doc-link:hover span {\n",
       "  display: block;\n",
       "}\n",
       "\n",
       "/* \"?\"-specific style due to the `<a>` HTML tag */\n",
       "\n",
       "#sk-container-id-17 a.estimator_doc_link {\n",
       "  float: right;\n",
       "  font-size: 1rem;\n",
       "  line-height: 1em;\n",
       "  font-family: monospace;\n",
       "  background-color: var(--sklearn-color-background);\n",
       "  border-radius: 1rem;\n",
       "  height: 1rem;\n",
       "  width: 1rem;\n",
       "  text-decoration: none;\n",
       "  /* unfitted */\n",
       "  color: var(--sklearn-color-unfitted-level-1);\n",
       "  border: var(--sklearn-color-unfitted-level-1) 1pt solid;\n",
       "}\n",
       "\n",
       "#sk-container-id-17 a.estimator_doc_link.fitted {\n",
       "  /* fitted */\n",
       "  border: var(--sklearn-color-fitted-level-1) 1pt solid;\n",
       "  color: var(--sklearn-color-fitted-level-1);\n",
       "}\n",
       "\n",
       "/* On hover */\n",
       "#sk-container-id-17 a.estimator_doc_link:hover {\n",
       "  /* unfitted */\n",
       "  background-color: var(--sklearn-color-unfitted-level-3);\n",
       "  color: var(--sklearn-color-background);\n",
       "  text-decoration: none;\n",
       "}\n",
       "\n",
       "#sk-container-id-17 a.estimator_doc_link.fitted:hover {\n",
       "  /* fitted */\n",
       "  background-color: var(--sklearn-color-fitted-level-3);\n",
       "}\n",
       "\n",
       ".estimator-table summary {\n",
       "    padding: .5rem;\n",
       "    font-family: monospace;\n",
       "    cursor: pointer;\n",
       "}\n",
       "\n",
       ".estimator-table details[open] {\n",
       "    padding-left: 0.1rem;\n",
       "    padding-right: 0.1rem;\n",
       "    padding-bottom: 0.3rem;\n",
       "}\n",
       "\n",
       ".estimator-table .parameters-table {\n",
       "    margin-left: auto !important;\n",
       "    margin-right: auto !important;\n",
       "}\n",
       "\n",
       ".estimator-table .parameters-table tr:nth-child(odd) {\n",
       "    background-color: #fff;\n",
       "}\n",
       "\n",
       ".estimator-table .parameters-table tr:nth-child(even) {\n",
       "    background-color: #f6f6f6;\n",
       "}\n",
       "\n",
       ".estimator-table .parameters-table tr:hover {\n",
       "    background-color: #e0e0e0;\n",
       "}\n",
       "\n",
       ".estimator-table table td {\n",
       "    border: 1px solid rgba(106, 105, 104, 0.232);\n",
       "}\n",
       "\n",
       ".user-set td {\n",
       "    color:rgb(255, 94, 0);\n",
       "    text-align: left;\n",
       "}\n",
       "\n",
       ".user-set td.value pre {\n",
       "    color:rgb(255, 94, 0) !important;\n",
       "    background-color: transparent !important;\n",
       "}\n",
       "\n",
       ".default td {\n",
       "    color: black;\n",
       "    text-align: left;\n",
       "}\n",
       "\n",
       ".user-set td i,\n",
       ".default td i {\n",
       "    color: black;\n",
       "}\n",
       "\n",
       ".copy-paste-icon {\n",
       "    background-image: url(data:image/svg+xml;base64,PHN2ZyB4bWxucz0iaHR0cDovL3d3dy53My5vcmcvMjAwMC9zdmciIHZpZXdCb3g9IjAgMCA0NDggNTEyIj48IS0tIUZvbnQgQXdlc29tZSBGcmVlIDYuNy4yIGJ5IEBmb250YXdlc29tZSAtIGh0dHBzOi8vZm9udGF3ZXNvbWUuY29tIExpY2Vuc2UgLSBodHRwczovL2ZvbnRhd2Vzb21lLmNvbS9saWNlbnNlL2ZyZWUgQ29weXJpZ2h0IDIwMjUgRm9udGljb25zLCBJbmMuLS0+PHBhdGggZD0iTTIwOCAwTDMzMi4xIDBjMTIuNyAwIDI0LjkgNS4xIDMzLjkgMTQuMWw2Ny45IDY3LjljOSA5IDE0LjEgMjEuMiAxNC4xIDMzLjlMNDQ4IDMzNmMwIDI2LjUtMjEuNSA0OC00OCA0OGwtMTkyIDBjLTI2LjUgMC00OC0yMS41LTQ4LTQ4bDAtMjg4YzAtMjYuNSAyMS41LTQ4IDQ4LTQ4ek00OCAxMjhsODAgMCAwIDY0LTY0IDAgMCAyNTYgMTkyIDAgMC0zMiA2NCAwIDAgNDhjMCAyNi41LTIxLjUgNDgtNDggNDhMNDggNTEyYy0yNi41IDAtNDgtMjEuNS00OC00OEwwIDE3NmMwLTI2LjUgMjEuNS00OCA0OC00OHoiLz48L3N2Zz4=);\n",
       "    background-repeat: no-repeat;\n",
       "    background-size: 14px 14px;\n",
       "    background-position: 0;\n",
       "    display: inline-block;\n",
       "    width: 14px;\n",
       "    height: 14px;\n",
       "    cursor: pointer;\n",
       "}\n",
       "</style><body><div id=\"sk-container-id-17\" class=\"sk-top-container\"><div class=\"sk-text-repr-fallback\"><pre>Pipeline(steps=[(&#x27;preprocess&#x27;,\n",
       "                 ColumnTransformer(transformers=[(&#x27;num&#x27;,\n",
       "                                                  Pipeline(steps=[(&#x27;scaler&#x27;,\n",
       "                                                                   StandardScaler())]),\n",
       "                                                  [&#x27;DEPARTURE_DELAY&#x27;]),\n",
       "                                                 (&#x27;cat&#x27;,\n",
       "                                                  Pipeline(steps=[(&#x27;encoder&#x27;,\n",
       "                                                                   OrdinalEncoder(cols=[&#x27;ORIGIN_AIRPORT&#x27;,\n",
       "                                                                                        &#x27;DESTINATION_AIRPORT&#x27;,\n",
       "                                                                                        &#x27;AIRLINE&#x27;]))]),\n",
       "                                                  [&#x27;ORIGIN_AIRPORT&#x27;,\n",
       "                                                   &#x27;DESTINATION_AIRPORT&#x27;,\n",
       "                                                   &#x27;AIRLINE&#x27;])])),\n",
       "                (&#x27;rf&#x27;, RandomForestRegressor(max_features=2, random_state=0))])</pre><b>In a Jupyter environment, please rerun this cell to show the HTML representation or trust the notebook. <br />On GitHub, the HTML representation is unable to render, please try loading this page with nbviewer.org.</b></div><div class=\"sk-container\" hidden><div class=\"sk-item sk-dashed-wrapped\"><div class=\"sk-label-container\"><div class=\"sk-label fitted sk-toggleable\"><input class=\"sk-toggleable__control sk-hidden--visually\" id=\"sk-estimator-id-113\" type=\"checkbox\" ><label for=\"sk-estimator-id-113\" class=\"sk-toggleable__label fitted sk-toggleable__label-arrow\"><div><div>Pipeline</div></div><div><a class=\"sk-estimator-doc-link fitted\" rel=\"noreferrer\" target=\"_blank\" href=\"https://scikit-learn.org/1.7/modules/generated/sklearn.pipeline.Pipeline.html\">?<span>Documentation for Pipeline</span></a><span class=\"sk-estimator-doc-link fitted\">i<span>Fitted</span></span></div></label><div class=\"sk-toggleable__content fitted\" data-param-prefix=\"\">\n",
       "        <div class=\"estimator-table\">\n",
       "            <details>\n",
       "                <summary>Parameters</summary>\n",
       "                <table class=\"parameters-table\">\n",
       "                  <tbody>\n",
       "                    \n",
       "        <tr class=\"user-set\">\n",
       "            <td><i class=\"copy-paste-icon\"\n",
       "                 onclick=\"copyToClipboard('steps',\n",
       "                          this.parentElement.nextElementSibling)\"\n",
       "            ></i></td>\n",
       "            <td class=\"param\">steps&nbsp;</td>\n",
       "            <td class=\"value\">[(&#x27;preprocess&#x27;, ...), (&#x27;rf&#x27;, ...)]</td>\n",
       "        </tr>\n",
       "    \n",
       "\n",
       "        <tr class=\"default\">\n",
       "            <td><i class=\"copy-paste-icon\"\n",
       "                 onclick=\"copyToClipboard('transform_input',\n",
       "                          this.parentElement.nextElementSibling)\"\n",
       "            ></i></td>\n",
       "            <td class=\"param\">transform_input&nbsp;</td>\n",
       "            <td class=\"value\">None</td>\n",
       "        </tr>\n",
       "    \n",
       "\n",
       "        <tr class=\"default\">\n",
       "            <td><i class=\"copy-paste-icon\"\n",
       "                 onclick=\"copyToClipboard('memory',\n",
       "                          this.parentElement.nextElementSibling)\"\n",
       "            ></i></td>\n",
       "            <td class=\"param\">memory&nbsp;</td>\n",
       "            <td class=\"value\">None</td>\n",
       "        </tr>\n",
       "    \n",
       "\n",
       "        <tr class=\"default\">\n",
       "            <td><i class=\"copy-paste-icon\"\n",
       "                 onclick=\"copyToClipboard('verbose',\n",
       "                          this.parentElement.nextElementSibling)\"\n",
       "            ></i></td>\n",
       "            <td class=\"param\">verbose&nbsp;</td>\n",
       "            <td class=\"value\">False</td>\n",
       "        </tr>\n",
       "    \n",
       "                  </tbody>\n",
       "                </table>\n",
       "            </details>\n",
       "        </div>\n",
       "    </div></div></div><div class=\"sk-serial\"><div class=\"sk-item sk-dashed-wrapped\"><div class=\"sk-label-container\"><div class=\"sk-label fitted sk-toggleable\"><input class=\"sk-toggleable__control sk-hidden--visually\" id=\"sk-estimator-id-114\" type=\"checkbox\" ><label for=\"sk-estimator-id-114\" class=\"sk-toggleable__label fitted sk-toggleable__label-arrow\"><div><div>preprocess: ColumnTransformer</div></div><div><a class=\"sk-estimator-doc-link fitted\" rel=\"noreferrer\" target=\"_blank\" href=\"https://scikit-learn.org/1.7/modules/generated/sklearn.compose.ColumnTransformer.html\">?<span>Documentation for preprocess: ColumnTransformer</span></a></div></label><div class=\"sk-toggleable__content fitted\" data-param-prefix=\"preprocess__\">\n",
       "        <div class=\"estimator-table\">\n",
       "            <details>\n",
       "                <summary>Parameters</summary>\n",
       "                <table class=\"parameters-table\">\n",
       "                  <tbody>\n",
       "                    \n",
       "        <tr class=\"user-set\">\n",
       "            <td><i class=\"copy-paste-icon\"\n",
       "                 onclick=\"copyToClipboard('transformers',\n",
       "                          this.parentElement.nextElementSibling)\"\n",
       "            ></i></td>\n",
       "            <td class=\"param\">transformers&nbsp;</td>\n",
       "            <td class=\"value\">[(&#x27;num&#x27;, ...), (&#x27;cat&#x27;, ...)]</td>\n",
       "        </tr>\n",
       "    \n",
       "\n",
       "        <tr class=\"default\">\n",
       "            <td><i class=\"copy-paste-icon\"\n",
       "                 onclick=\"copyToClipboard('remainder',\n",
       "                          this.parentElement.nextElementSibling)\"\n",
       "            ></i></td>\n",
       "            <td class=\"param\">remainder&nbsp;</td>\n",
       "            <td class=\"value\">&#x27;drop&#x27;</td>\n",
       "        </tr>\n",
       "    \n",
       "\n",
       "        <tr class=\"default\">\n",
       "            <td><i class=\"copy-paste-icon\"\n",
       "                 onclick=\"copyToClipboard('sparse_threshold',\n",
       "                          this.parentElement.nextElementSibling)\"\n",
       "            ></i></td>\n",
       "            <td class=\"param\">sparse_threshold&nbsp;</td>\n",
       "            <td class=\"value\">0.3</td>\n",
       "        </tr>\n",
       "    \n",
       "\n",
       "        <tr class=\"default\">\n",
       "            <td><i class=\"copy-paste-icon\"\n",
       "                 onclick=\"copyToClipboard('n_jobs',\n",
       "                          this.parentElement.nextElementSibling)\"\n",
       "            ></i></td>\n",
       "            <td class=\"param\">n_jobs&nbsp;</td>\n",
       "            <td class=\"value\">None</td>\n",
       "        </tr>\n",
       "    \n",
       "\n",
       "        <tr class=\"default\">\n",
       "            <td><i class=\"copy-paste-icon\"\n",
       "                 onclick=\"copyToClipboard('transformer_weights',\n",
       "                          this.parentElement.nextElementSibling)\"\n",
       "            ></i></td>\n",
       "            <td class=\"param\">transformer_weights&nbsp;</td>\n",
       "            <td class=\"value\">None</td>\n",
       "        </tr>\n",
       "    \n",
       "\n",
       "        <tr class=\"default\">\n",
       "            <td><i class=\"copy-paste-icon\"\n",
       "                 onclick=\"copyToClipboard('verbose',\n",
       "                          this.parentElement.nextElementSibling)\"\n",
       "            ></i></td>\n",
       "            <td class=\"param\">verbose&nbsp;</td>\n",
       "            <td class=\"value\">False</td>\n",
       "        </tr>\n",
       "    \n",
       "\n",
       "        <tr class=\"default\">\n",
       "            <td><i class=\"copy-paste-icon\"\n",
       "                 onclick=\"copyToClipboard('verbose_feature_names_out',\n",
       "                          this.parentElement.nextElementSibling)\"\n",
       "            ></i></td>\n",
       "            <td class=\"param\">verbose_feature_names_out&nbsp;</td>\n",
       "            <td class=\"value\">True</td>\n",
       "        </tr>\n",
       "    \n",
       "\n",
       "        <tr class=\"default\">\n",
       "            <td><i class=\"copy-paste-icon\"\n",
       "                 onclick=\"copyToClipboard('force_int_remainder_cols',\n",
       "                          this.parentElement.nextElementSibling)\"\n",
       "            ></i></td>\n",
       "            <td class=\"param\">force_int_remainder_cols&nbsp;</td>\n",
       "            <td class=\"value\">&#x27;deprecated&#x27;</td>\n",
       "        </tr>\n",
       "    \n",
       "                  </tbody>\n",
       "                </table>\n",
       "            </details>\n",
       "        </div>\n",
       "    </div></div></div><div class=\"sk-parallel\"><div class=\"sk-parallel-item\"><div class=\"sk-item\"><div class=\"sk-label-container\"><div class=\"sk-label fitted sk-toggleable\"><input class=\"sk-toggleable__control sk-hidden--visually\" id=\"sk-estimator-id-115\" type=\"checkbox\" ><label for=\"sk-estimator-id-115\" class=\"sk-toggleable__label fitted sk-toggleable__label-arrow\"><div><div>num</div></div></label><div class=\"sk-toggleable__content fitted\" data-param-prefix=\"preprocess__num__\"><pre>[&#x27;DEPARTURE_DELAY&#x27;]</pre></div></div></div><div class=\"sk-serial\"><div class=\"sk-item\"><div class=\"sk-serial\"><div class=\"sk-item\"><div class=\"sk-estimator fitted sk-toggleable\"><input class=\"sk-toggleable__control sk-hidden--visually\" id=\"sk-estimator-id-116\" type=\"checkbox\" ><label for=\"sk-estimator-id-116\" class=\"sk-toggleable__label fitted sk-toggleable__label-arrow\"><div><div>StandardScaler</div></div><div><a class=\"sk-estimator-doc-link fitted\" rel=\"noreferrer\" target=\"_blank\" href=\"https://scikit-learn.org/1.7/modules/generated/sklearn.preprocessing.StandardScaler.html\">?<span>Documentation for StandardScaler</span></a></div></label><div class=\"sk-toggleable__content fitted\" data-param-prefix=\"preprocess__num__scaler__\">\n",
       "        <div class=\"estimator-table\">\n",
       "            <details>\n",
       "                <summary>Parameters</summary>\n",
       "                <table class=\"parameters-table\">\n",
       "                  <tbody>\n",
       "                    \n",
       "        <tr class=\"default\">\n",
       "            <td><i class=\"copy-paste-icon\"\n",
       "                 onclick=\"copyToClipboard('copy',\n",
       "                          this.parentElement.nextElementSibling)\"\n",
       "            ></i></td>\n",
       "            <td class=\"param\">copy&nbsp;</td>\n",
       "            <td class=\"value\">True</td>\n",
       "        </tr>\n",
       "    \n",
       "\n",
       "        <tr class=\"default\">\n",
       "            <td><i class=\"copy-paste-icon\"\n",
       "                 onclick=\"copyToClipboard('with_mean',\n",
       "                          this.parentElement.nextElementSibling)\"\n",
       "            ></i></td>\n",
       "            <td class=\"param\">with_mean&nbsp;</td>\n",
       "            <td class=\"value\">True</td>\n",
       "        </tr>\n",
       "    \n",
       "\n",
       "        <tr class=\"default\">\n",
       "            <td><i class=\"copy-paste-icon\"\n",
       "                 onclick=\"copyToClipboard('with_std',\n",
       "                          this.parentElement.nextElementSibling)\"\n",
       "            ></i></td>\n",
       "            <td class=\"param\">with_std&nbsp;</td>\n",
       "            <td class=\"value\">True</td>\n",
       "        </tr>\n",
       "    \n",
       "                  </tbody>\n",
       "                </table>\n",
       "            </details>\n",
       "        </div>\n",
       "    </div></div></div></div></div></div></div></div><div class=\"sk-parallel-item\"><div class=\"sk-item\"><div class=\"sk-label-container\"><div class=\"sk-label fitted sk-toggleable\"><input class=\"sk-toggleable__control sk-hidden--visually\" id=\"sk-estimator-id-117\" type=\"checkbox\" ><label for=\"sk-estimator-id-117\" class=\"sk-toggleable__label fitted sk-toggleable__label-arrow\"><div><div>cat</div></div></label><div class=\"sk-toggleable__content fitted\" data-param-prefix=\"preprocess__cat__\"><pre>[&#x27;ORIGIN_AIRPORT&#x27;, &#x27;DESTINATION_AIRPORT&#x27;, &#x27;AIRLINE&#x27;]</pre></div></div></div><div class=\"sk-serial\"><div class=\"sk-item\"><div class=\"sk-serial\"><div class=\"sk-item\"><div class=\"sk-estimator fitted sk-toggleable\"><input class=\"sk-toggleable__control sk-hidden--visually\" id=\"sk-estimator-id-118\" type=\"checkbox\" ><label for=\"sk-estimator-id-118\" class=\"sk-toggleable__label fitted sk-toggleable__label-arrow\"><div><div>OrdinalEncoder</div></div></label><div class=\"sk-toggleable__content fitted\" data-param-prefix=\"preprocess__cat__encoder__\">\n",
       "        <div class=\"estimator-table\">\n",
       "            <details>\n",
       "                <summary>Parameters</summary>\n",
       "                <table class=\"parameters-table\">\n",
       "                  <tbody>\n",
       "                    \n",
       "        <tr class=\"default\">\n",
       "            <td><i class=\"copy-paste-icon\"\n",
       "                 onclick=\"copyToClipboard('verbose',\n",
       "                          this.parentElement.nextElementSibling)\"\n",
       "            ></i></td>\n",
       "            <td class=\"param\">verbose&nbsp;</td>\n",
       "            <td class=\"value\">0</td>\n",
       "        </tr>\n",
       "    \n",
       "\n",
       "        <tr class=\"default\">\n",
       "            <td><i class=\"copy-paste-icon\"\n",
       "                 onclick=\"copyToClipboard('mapping',\n",
       "                          this.parentElement.nextElementSibling)\"\n",
       "            ></i></td>\n",
       "            <td class=\"param\">mapping&nbsp;</td>\n",
       "            <td class=\"value\">None</td>\n",
       "        </tr>\n",
       "    \n",
       "\n",
       "        <tr class=\"user-set\">\n",
       "            <td><i class=\"copy-paste-icon\"\n",
       "                 onclick=\"copyToClipboard('cols',\n",
       "                          this.parentElement.nextElementSibling)\"\n",
       "            ></i></td>\n",
       "            <td class=\"param\">cols&nbsp;</td>\n",
       "            <td class=\"value\">[&#x27;ORIGIN_AIRPORT&#x27;, &#x27;DESTINATION_AIRPORT&#x27;, ...]</td>\n",
       "        </tr>\n",
       "    \n",
       "\n",
       "        <tr class=\"default\">\n",
       "            <td><i class=\"copy-paste-icon\"\n",
       "                 onclick=\"copyToClipboard('drop_invariant',\n",
       "                          this.parentElement.nextElementSibling)\"\n",
       "            ></i></td>\n",
       "            <td class=\"param\">drop_invariant&nbsp;</td>\n",
       "            <td class=\"value\">False</td>\n",
       "        </tr>\n",
       "    \n",
       "\n",
       "        <tr class=\"default\">\n",
       "            <td><i class=\"copy-paste-icon\"\n",
       "                 onclick=\"copyToClipboard('return_df',\n",
       "                          this.parentElement.nextElementSibling)\"\n",
       "            ></i></td>\n",
       "            <td class=\"param\">return_df&nbsp;</td>\n",
       "            <td class=\"value\">True</td>\n",
       "        </tr>\n",
       "    \n",
       "\n",
       "        <tr class=\"default\">\n",
       "            <td><i class=\"copy-paste-icon\"\n",
       "                 onclick=\"copyToClipboard('handle_unknown',\n",
       "                          this.parentElement.nextElementSibling)\"\n",
       "            ></i></td>\n",
       "            <td class=\"param\">handle_unknown&nbsp;</td>\n",
       "            <td class=\"value\">&#x27;value&#x27;</td>\n",
       "        </tr>\n",
       "    \n",
       "\n",
       "        <tr class=\"default\">\n",
       "            <td><i class=\"copy-paste-icon\"\n",
       "                 onclick=\"copyToClipboard('handle_missing',\n",
       "                          this.parentElement.nextElementSibling)\"\n",
       "            ></i></td>\n",
       "            <td class=\"param\">handle_missing&nbsp;</td>\n",
       "            <td class=\"value\">&#x27;value&#x27;</td>\n",
       "        </tr>\n",
       "    \n",
       "                  </tbody>\n",
       "                </table>\n",
       "            </details>\n",
       "        </div>\n",
       "    </div></div></div></div></div></div></div></div></div></div><div class=\"sk-item\"><div class=\"sk-estimator fitted sk-toggleable\"><input class=\"sk-toggleable__control sk-hidden--visually\" id=\"sk-estimator-id-119\" type=\"checkbox\" ><label for=\"sk-estimator-id-119\" class=\"sk-toggleable__label fitted sk-toggleable__label-arrow\"><div><div>RandomForestRegressor</div></div><div><a class=\"sk-estimator-doc-link fitted\" rel=\"noreferrer\" target=\"_blank\" href=\"https://scikit-learn.org/1.7/modules/generated/sklearn.ensemble.RandomForestRegressor.html\">?<span>Documentation for RandomForestRegressor</span></a></div></label><div class=\"sk-toggleable__content fitted\" data-param-prefix=\"rf__\">\n",
       "        <div class=\"estimator-table\">\n",
       "            <details>\n",
       "                <summary>Parameters</summary>\n",
       "                <table class=\"parameters-table\">\n",
       "                  <tbody>\n",
       "                    \n",
       "        <tr class=\"default\">\n",
       "            <td><i class=\"copy-paste-icon\"\n",
       "                 onclick=\"copyToClipboard('n_estimators',\n",
       "                          this.parentElement.nextElementSibling)\"\n",
       "            ></i></td>\n",
       "            <td class=\"param\">n_estimators&nbsp;</td>\n",
       "            <td class=\"value\">100</td>\n",
       "        </tr>\n",
       "    \n",
       "\n",
       "        <tr class=\"default\">\n",
       "            <td><i class=\"copy-paste-icon\"\n",
       "                 onclick=\"copyToClipboard('criterion',\n",
       "                          this.parentElement.nextElementSibling)\"\n",
       "            ></i></td>\n",
       "            <td class=\"param\">criterion&nbsp;</td>\n",
       "            <td class=\"value\">&#x27;squared_error&#x27;</td>\n",
       "        </tr>\n",
       "    \n",
       "\n",
       "        <tr class=\"default\">\n",
       "            <td><i class=\"copy-paste-icon\"\n",
       "                 onclick=\"copyToClipboard('max_depth',\n",
       "                          this.parentElement.nextElementSibling)\"\n",
       "            ></i></td>\n",
       "            <td class=\"param\">max_depth&nbsp;</td>\n",
       "            <td class=\"value\">None</td>\n",
       "        </tr>\n",
       "    \n",
       "\n",
       "        <tr class=\"default\">\n",
       "            <td><i class=\"copy-paste-icon\"\n",
       "                 onclick=\"copyToClipboard('min_samples_split',\n",
       "                          this.parentElement.nextElementSibling)\"\n",
       "            ></i></td>\n",
       "            <td class=\"param\">min_samples_split&nbsp;</td>\n",
       "            <td class=\"value\">2</td>\n",
       "        </tr>\n",
       "    \n",
       "\n",
       "        <tr class=\"default\">\n",
       "            <td><i class=\"copy-paste-icon\"\n",
       "                 onclick=\"copyToClipboard('min_samples_leaf',\n",
       "                          this.parentElement.nextElementSibling)\"\n",
       "            ></i></td>\n",
       "            <td class=\"param\">min_samples_leaf&nbsp;</td>\n",
       "            <td class=\"value\">1</td>\n",
       "        </tr>\n",
       "    \n",
       "\n",
       "        <tr class=\"default\">\n",
       "            <td><i class=\"copy-paste-icon\"\n",
       "                 onclick=\"copyToClipboard('min_weight_fraction_leaf',\n",
       "                          this.parentElement.nextElementSibling)\"\n",
       "            ></i></td>\n",
       "            <td class=\"param\">min_weight_fraction_leaf&nbsp;</td>\n",
       "            <td class=\"value\">0.0</td>\n",
       "        </tr>\n",
       "    \n",
       "\n",
       "        <tr class=\"user-set\">\n",
       "            <td><i class=\"copy-paste-icon\"\n",
       "                 onclick=\"copyToClipboard('max_features',\n",
       "                          this.parentElement.nextElementSibling)\"\n",
       "            ></i></td>\n",
       "            <td class=\"param\">max_features&nbsp;</td>\n",
       "            <td class=\"value\">2</td>\n",
       "        </tr>\n",
       "    \n",
       "\n",
       "        <tr class=\"default\">\n",
       "            <td><i class=\"copy-paste-icon\"\n",
       "                 onclick=\"copyToClipboard('max_leaf_nodes',\n",
       "                          this.parentElement.nextElementSibling)\"\n",
       "            ></i></td>\n",
       "            <td class=\"param\">max_leaf_nodes&nbsp;</td>\n",
       "            <td class=\"value\">None</td>\n",
       "        </tr>\n",
       "    \n",
       "\n",
       "        <tr class=\"default\">\n",
       "            <td><i class=\"copy-paste-icon\"\n",
       "                 onclick=\"copyToClipboard('min_impurity_decrease',\n",
       "                          this.parentElement.nextElementSibling)\"\n",
       "            ></i></td>\n",
       "            <td class=\"param\">min_impurity_decrease&nbsp;</td>\n",
       "            <td class=\"value\">0.0</td>\n",
       "        </tr>\n",
       "    \n",
       "\n",
       "        <tr class=\"default\">\n",
       "            <td><i class=\"copy-paste-icon\"\n",
       "                 onclick=\"copyToClipboard('bootstrap',\n",
       "                          this.parentElement.nextElementSibling)\"\n",
       "            ></i></td>\n",
       "            <td class=\"param\">bootstrap&nbsp;</td>\n",
       "            <td class=\"value\">True</td>\n",
       "        </tr>\n",
       "    \n",
       "\n",
       "        <tr class=\"default\">\n",
       "            <td><i class=\"copy-paste-icon\"\n",
       "                 onclick=\"copyToClipboard('oob_score',\n",
       "                          this.parentElement.nextElementSibling)\"\n",
       "            ></i></td>\n",
       "            <td class=\"param\">oob_score&nbsp;</td>\n",
       "            <td class=\"value\">False</td>\n",
       "        </tr>\n",
       "    \n",
       "\n",
       "        <tr class=\"default\">\n",
       "            <td><i class=\"copy-paste-icon\"\n",
       "                 onclick=\"copyToClipboard('n_jobs',\n",
       "                          this.parentElement.nextElementSibling)\"\n",
       "            ></i></td>\n",
       "            <td class=\"param\">n_jobs&nbsp;</td>\n",
       "            <td class=\"value\">None</td>\n",
       "        </tr>\n",
       "    \n",
       "\n",
       "        <tr class=\"user-set\">\n",
       "            <td><i class=\"copy-paste-icon\"\n",
       "                 onclick=\"copyToClipboard('random_state',\n",
       "                          this.parentElement.nextElementSibling)\"\n",
       "            ></i></td>\n",
       "            <td class=\"param\">random_state&nbsp;</td>\n",
       "            <td class=\"value\">0</td>\n",
       "        </tr>\n",
       "    \n",
       "\n",
       "        <tr class=\"default\">\n",
       "            <td><i class=\"copy-paste-icon\"\n",
       "                 onclick=\"copyToClipboard('verbose',\n",
       "                          this.parentElement.nextElementSibling)\"\n",
       "            ></i></td>\n",
       "            <td class=\"param\">verbose&nbsp;</td>\n",
       "            <td class=\"value\">0</td>\n",
       "        </tr>\n",
       "    \n",
       "\n",
       "        <tr class=\"default\">\n",
       "            <td><i class=\"copy-paste-icon\"\n",
       "                 onclick=\"copyToClipboard('warm_start',\n",
       "                          this.parentElement.nextElementSibling)\"\n",
       "            ></i></td>\n",
       "            <td class=\"param\">warm_start&nbsp;</td>\n",
       "            <td class=\"value\">False</td>\n",
       "        </tr>\n",
       "    \n",
       "\n",
       "        <tr class=\"default\">\n",
       "            <td><i class=\"copy-paste-icon\"\n",
       "                 onclick=\"copyToClipboard('ccp_alpha',\n",
       "                          this.parentElement.nextElementSibling)\"\n",
       "            ></i></td>\n",
       "            <td class=\"param\">ccp_alpha&nbsp;</td>\n",
       "            <td class=\"value\">0.0</td>\n",
       "        </tr>\n",
       "    \n",
       "\n",
       "        <tr class=\"default\">\n",
       "            <td><i class=\"copy-paste-icon\"\n",
       "                 onclick=\"copyToClipboard('max_samples',\n",
       "                          this.parentElement.nextElementSibling)\"\n",
       "            ></i></td>\n",
       "            <td class=\"param\">max_samples&nbsp;</td>\n",
       "            <td class=\"value\">None</td>\n",
       "        </tr>\n",
       "    \n",
       "\n",
       "        <tr class=\"default\">\n",
       "            <td><i class=\"copy-paste-icon\"\n",
       "                 onclick=\"copyToClipboard('monotonic_cst',\n",
       "                          this.parentElement.nextElementSibling)\"\n",
       "            ></i></td>\n",
       "            <td class=\"param\">monotonic_cst&nbsp;</td>\n",
       "            <td class=\"value\">None</td>\n",
       "        </tr>\n",
       "    \n",
       "                  </tbody>\n",
       "                </table>\n",
       "            </details>\n",
       "        </div>\n",
       "    </div></div></div></div></div></div></div><script>function copyToClipboard(text, element) {\n",
       "    // Get the parameter prefix from the closest toggleable content\n",
       "    const toggleableContent = element.closest('.sk-toggleable__content');\n",
       "    const paramPrefix = toggleableContent ? toggleableContent.dataset.paramPrefix : '';\n",
       "    const fullParamName = paramPrefix ? `${paramPrefix}${text}` : text;\n",
       "\n",
       "    const originalStyle = element.style;\n",
       "    const computedStyle = window.getComputedStyle(element);\n",
       "    const originalWidth = computedStyle.width;\n",
       "    const originalHTML = element.innerHTML.replace('Copied!', '');\n",
       "\n",
       "    navigator.clipboard.writeText(fullParamName)\n",
       "        .then(() => {\n",
       "            element.style.width = originalWidth;\n",
       "            element.style.color = 'green';\n",
       "            element.innerHTML = \"Copied!\";\n",
       "\n",
       "            setTimeout(() => {\n",
       "                element.innerHTML = originalHTML;\n",
       "                element.style = originalStyle;\n",
       "            }, 2000);\n",
       "        })\n",
       "        .catch(err => {\n",
       "            console.error('Failed to copy:', err);\n",
       "            element.style.color = 'red';\n",
       "            element.innerHTML = \"Failed!\";\n",
       "            setTimeout(() => {\n",
       "                element.innerHTML = originalHTML;\n",
       "                element.style = originalStyle;\n",
       "            }, 2000);\n",
       "        });\n",
       "    return false;\n",
       "}\n",
       "\n",
       "document.querySelectorAll('.fa-regular.fa-copy').forEach(function(element) {\n",
       "    const toggleableContent = element.closest('.sk-toggleable__content');\n",
       "    const paramPrefix = toggleableContent ? toggleableContent.dataset.paramPrefix : '';\n",
       "    const paramName = element.parentElement.nextElementSibling.textContent.trim();\n",
       "    const fullParamName = paramPrefix ? `${paramPrefix}${paramName}` : paramName;\n",
       "\n",
       "    element.setAttribute('title', fullParamName);\n",
       "});\n",
       "</script></body>"
      ]
     },
     "execution_count": 265,
     "metadata": {},
     "output_type": "execute_result"
    }
   ],
   "execution_count": 265
  },
  {
   "metadata": {
    "ExecuteTime": {
     "end_time": "2025-10-31T11:33:34.158603Z",
     "start_time": "2025-10-31T11:33:33.949313Z"
    }
   },
   "cell_type": "code",
   "source": [
    "# Eval\n",
    "y_pred_train = model.predict(X_train)\n",
    "y_pred_test = model.predict(X_test)"
   ],
   "id": "9f3aa2878d28bc0a",
   "outputs": [],
   "execution_count": 266
  },
  {
   "metadata": {
    "ExecuteTime": {
     "end_time": "2025-10-31T11:33:34.179371Z",
     "start_time": "2025-10-31T11:33:34.169647Z"
    }
   },
   "cell_type": "code",
   "source": [
    "train_r2 = r2_score(y_train, y_pred_train) * 100\n",
    "test_r2 = r2_score(y_test, y_pred_test) * 100\n",
    "train_mae = mean_absolute_error(y_train, y_pred_train)\n",
    "test_mae = mean_absolute_error(y_test, y_pred_test)\n",
    "\n",
    "print(f\"Score Train R² -- {train_r2:.2f} % | MAE = {train_mae:.2f} min\")\n",
    "print(f\"Score Test  R² -- {test_r2:.2f} % | MAE = {test_mae:.2f} min\")"
   ],
   "id": "f26be32e73983648",
   "outputs": [
    {
     "name": "stdout",
     "output_type": "stream",
     "text": [
      "Score Train R² -- 97.59 % | MAE = 3.86 min\n",
      "Score Test  R² -- 86.19 % | MAE = 9.85 min\n"
     ]
    }
   ],
   "execution_count": 267
  },
  {
   "metadata": {},
   "cell_type": "markdown",
   "source": "Compare real values vs predicted values",
   "id": "2a15594d65e57ffc"
  },
  {
   "metadata": {
    "ExecuteTime": {
     "end_time": "2025-10-31T11:33:34.199090Z",
     "start_time": "2025-10-31T11:33:34.193340Z"
    }
   },
   "cell_type": "code",
   "source": [
    "df_compare = pd.DataFrame({\n",
    "    \"Actual Delay\": y_test,\n",
    "    \"Predicted Delay\": y_pred_test\n",
    "}).reset_index(drop=True)"
   ],
   "id": "13a4d702178e1f4d",
   "outputs": [],
   "execution_count": 268
  },
  {
   "metadata": {
    "ExecuteTime": {
     "end_time": "2025-10-31T11:34:18.350812Z",
     "start_time": "2025-10-31T11:34:18.291945Z"
    }
   },
   "cell_type": "code",
   "source": [
    "fig = px.scatter(\n",
    "    df_compare,\n",
    "    x=\"Actual Delay\",\n",
    "    y=\"Predicted Delay\",\n",
    "    title=\"Predicted vs Actual Arrival Delay\",\n",
    "    opacity=0.5,\n",
    ")\n",
    "\n",
    "# Ligne parfaite (y = x)\n",
    "fig.add_shape(\n",
    "    type=\"line\",\n",
    "    x0=df_compare[\"Actual Delay\"].min(),\n",
    "    y0=df_compare[\"Actual Delay\"].min(),\n",
    "    x1=df_compare[\"Actual Delay\"].max(),\n",
    "    y1=df_compare[\"Actual Delay\"].max(),\n",
    "    line=dict(dash=\"dot\")\n",
    ")\n",
    "\n",
    "fig.show()"
   ],
   "id": "22d986a43cb89bbb",
   "outputs": [
    {
     "data": {
      "application/vnd.plotly.v1+json": {
       "data": [
        {
         "hovertemplate": "Actual Delay=%{x}<br>Predicted Delay=%{y}<extra></extra>",
         "legendgroup": "",
         "marker": {
          "color": "#636efa",
          "opacity": 0.5,
          "symbol": "circle"
         },
         "mode": "markers",
         "name": "",
         "showlegend": false,
         "x": {
          "dtype": "f8",
          "bdata": "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"
         },
         "xaxis": "x",
         "y": {
          "dtype": "f8",
          "bdata": "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"
         },
         "yaxis": "y",
         "type": "scattergl"
        }
       ],
       "layout": {
        "template": {
         "data": {
          "histogram2dcontour": [
           {
            "type": "histogram2dcontour",
            "colorbar": {
             "outlinewidth": 0,
             "ticks": ""
            },
            "colorscale": [
             [
              0.0,
              "#0d0887"
             ],
             [
              0.1111111111111111,
              "#46039f"
             ],
             [
              0.2222222222222222,
              "#7201a8"
             ],
             [
              0.3333333333333333,
              "#9c179e"
             ],
             [
              0.4444444444444444,
              "#bd3786"
             ],
             [
              0.5555555555555556,
              "#d8576b"
             ],
             [
              0.6666666666666666,
              "#ed7953"
             ],
             [
              0.7777777777777778,
              "#fb9f3a"
             ],
             [
              0.8888888888888888,
              "#fdca26"
             ],
             [
              1.0,
              "#f0f921"
             ]
            ]
           }
          ],
          "choropleth": [
           {
            "type": "choropleth",
            "colorbar": {
             "outlinewidth": 0,
             "ticks": ""
            }
           }
          ],
          "histogram2d": [
           {
            "type": "histogram2d",
            "colorbar": {
             "outlinewidth": 0,
             "ticks": ""
            },
            "colorscale": [
             [
              0.0,
              "#0d0887"
             ],
             [
              0.1111111111111111,
              "#46039f"
             ],
             [
              0.2222222222222222,
              "#7201a8"
             ],
             [
              0.3333333333333333,
              "#9c179e"
             ],
             [
              0.4444444444444444,
              "#bd3786"
             ],
             [
              0.5555555555555556,
              "#d8576b"
             ],
             [
              0.6666666666666666,
              "#ed7953"
             ],
             [
              0.7777777777777778,
              "#fb9f3a"
             ],
             [
              0.8888888888888888,
              "#fdca26"
             ],
             [
              1.0,
              "#f0f921"
             ]
            ]
           }
          ],
          "heatmap": [
           {
            "type": "heatmap",
            "colorbar": {
             "outlinewidth": 0,
             "ticks": ""
            },
            "colorscale": [
             [
              0.0,
              "#0d0887"
             ],
             [
              0.1111111111111111,
              "#46039f"
             ],
             [
              0.2222222222222222,
              "#7201a8"
             ],
             [
              0.3333333333333333,
              "#9c179e"
             ],
             [
              0.4444444444444444,
              "#bd3786"
             ],
             [
              0.5555555555555556,
              "#d8576b"
             ],
             [
              0.6666666666666666,
              "#ed7953"
             ],
             [
              0.7777777777777778,
              "#fb9f3a"
             ],
             [
              0.8888888888888888,
              "#fdca26"
             ],
             [
              1.0,
              "#f0f921"
             ]
            ]
           }
          ],
          "contourcarpet": [
           {
            "type": "contourcarpet",
            "colorbar": {
             "outlinewidth": 0,
             "ticks": ""
            }
           }
          ],
          "contour": [
           {
            "type": "contour",
            "colorbar": {
             "outlinewidth": 0,
             "ticks": ""
            },
            "colorscale": [
             [
              0.0,
              "#0d0887"
             ],
             [
              0.1111111111111111,
              "#46039f"
             ],
             [
              0.2222222222222222,
              "#7201a8"
             ],
             [
              0.3333333333333333,
              "#9c179e"
             ],
             [
              0.4444444444444444,
              "#bd3786"
             ],
             [
              0.5555555555555556,
              "#d8576b"
             ],
             [
              0.6666666666666666,
              "#ed7953"
             ],
             [
              0.7777777777777778,
              "#fb9f3a"
             ],
             [
              0.8888888888888888,
              "#fdca26"
             ],
             [
              1.0,
              "#f0f921"
             ]
            ]
           }
          ],
          "surface": [
           {
            "type": "surface",
            "colorbar": {
             "outlinewidth": 0,
             "ticks": ""
            },
            "colorscale": [
             [
              0.0,
              "#0d0887"
             ],
             [
              0.1111111111111111,
              "#46039f"
             ],
             [
              0.2222222222222222,
              "#7201a8"
             ],
             [
              0.3333333333333333,
              "#9c179e"
             ],
             [
              0.4444444444444444,
              "#bd3786"
             ],
             [
              0.5555555555555556,
              "#d8576b"
             ],
             [
              0.6666666666666666,
              "#ed7953"
             ],
             [
              0.7777777777777778,
              "#fb9f3a"
             ],
             [
              0.8888888888888888,
              "#fdca26"
             ],
             [
              1.0,
              "#f0f921"
             ]
            ]
           }
          ],
          "mesh3d": [
           {
            "type": "mesh3d",
            "colorbar": {
             "outlinewidth": 0,
             "ticks": ""
            }
           }
          ],
          "scatter": [
           {
            "marker": {
             "line": {
              "color": "#283442"
             }
            },
            "type": "scatter"
           }
          ],
          "parcoords": [
           {
            "type": "parcoords",
            "line": {
             "colorbar": {
              "outlinewidth": 0,
              "ticks": ""
             }
            }
           }
          ],
          "scatterpolargl": [
           {
            "type": "scatterpolargl",
            "marker": {
             "colorbar": {
              "outlinewidth": 0,
              "ticks": ""
             }
            }
           }
          ],
          "bar": [
           {
            "error_x": {
             "color": "#f2f5fa"
            },
            "error_y": {
             "color": "#f2f5fa"
            },
            "marker": {
             "line": {
              "color": "rgb(17,17,17)",
              "width": 0.5
             },
             "pattern": {
              "fillmode": "overlay",
              "size": 10,
              "solidity": 0.2
             }
            },
            "type": "bar"
           }
          ],
          "scattergeo": [
           {
            "type": "scattergeo",
            "marker": {
             "colorbar": {
              "outlinewidth": 0,
              "ticks": ""
             }
            }
           }
          ],
          "scatterpolar": [
           {
            "type": "scatterpolar",
            "marker": {
             "colorbar": {
              "outlinewidth": 0,
              "ticks": ""
             }
            }
           }
          ],
          "histogram": [
           {
            "marker": {
             "pattern": {
              "fillmode": "overlay",
              "size": 10,
              "solidity": 0.2
             }
            },
            "type": "histogram"
           }
          ],
          "scattergl": [
           {
            "marker": {
             "line": {
              "color": "#283442"
             }
            },
            "type": "scattergl"
           }
          ],
          "scatter3d": [
           {
            "type": "scatter3d",
            "line": {
             "colorbar": {
              "outlinewidth": 0,
              "ticks": ""
             }
            },
            "marker": {
             "colorbar": {
              "outlinewidth": 0,
              "ticks": ""
             }
            }
           }
          ],
          "scattermap": [
           {
            "type": "scattermap",
            "marker": {
             "colorbar": {
              "outlinewidth": 0,
              "ticks": ""
             }
            }
           }
          ],
          "scattermapbox": [
           {
            "type": "scattermapbox",
            "marker": {
             "colorbar": {
              "outlinewidth": 0,
              "ticks": ""
             }
            }
           }
          ],
          "scatterternary": [
           {
            "type": "scatterternary",
            "marker": {
             "colorbar": {
              "outlinewidth": 0,
              "ticks": ""
             }
            }
           }
          ],
          "scattercarpet": [
           {
            "type": "scattercarpet",
            "marker": {
             "colorbar": {
              "outlinewidth": 0,
              "ticks": ""
             }
            }
           }
          ],
          "carpet": [
           {
            "aaxis": {
             "endlinecolor": "#A2B1C6",
             "gridcolor": "#506784",
             "linecolor": "#506784",
             "minorgridcolor": "#506784",
             "startlinecolor": "#A2B1C6"
            },
            "baxis": {
             "endlinecolor": "#A2B1C6",
             "gridcolor": "#506784",
             "linecolor": "#506784",
             "minorgridcolor": "#506784",
             "startlinecolor": "#A2B1C6"
            },
            "type": "carpet"
           }
          ],
          "table": [
           {
            "cells": {
             "fill": {
              "color": "#506784"
             },
             "line": {
              "color": "rgb(17,17,17)"
             }
            },
            "header": {
             "fill": {
              "color": "#2a3f5f"
             },
             "line": {
              "color": "rgb(17,17,17)"
             }
            },
            "type": "table"
           }
          ],
          "barpolar": [
           {
            "marker": {
             "line": {
              "color": "rgb(17,17,17)",
              "width": 0.5
             },
             "pattern": {
              "fillmode": "overlay",
              "size": 10,
              "solidity": 0.2
             }
            },
            "type": "barpolar"
           }
          ],
          "pie": [
           {
            "automargin": true,
            "type": "pie"
           }
          ]
         },
         "layout": {
          "autotypenumbers": "strict",
          "colorway": [
           "#636efa",
           "#EF553B",
           "#00cc96",
           "#ab63fa",
           "#FFA15A",
           "#19d3f3",
           "#FF6692",
           "#B6E880",
           "#FF97FF",
           "#FECB52"
          ],
          "font": {
           "color": "#f2f5fa"
          },
          "hovermode": "closest",
          "hoverlabel": {
           "align": "left"
          },
          "paper_bgcolor": "rgb(17,17,17)",
          "plot_bgcolor": "rgb(17,17,17)",
          "polar": {
           "bgcolor": "rgb(17,17,17)",
           "angularaxis": {
            "gridcolor": "#506784",
            "linecolor": "#506784",
            "ticks": ""
           },
           "radialaxis": {
            "gridcolor": "#506784",
            "linecolor": "#506784",
            "ticks": ""
           }
          },
          "ternary": {
           "bgcolor": "rgb(17,17,17)",
           "aaxis": {
            "gridcolor": "#506784",
            "linecolor": "#506784",
            "ticks": ""
           },
           "baxis": {
            "gridcolor": "#506784",
            "linecolor": "#506784",
            "ticks": ""
           },
           "caxis": {
            "gridcolor": "#506784",
            "linecolor": "#506784",
            "ticks": ""
           }
          },
          "coloraxis": {
           "colorbar": {
            "outlinewidth": 0,
            "ticks": ""
           }
          },
          "colorscale": {
           "sequential": [
            [
             0.0,
             "#0d0887"
            ],
            [
             0.1111111111111111,
             "#46039f"
            ],
            [
             0.2222222222222222,
             "#7201a8"
            ],
            [
             0.3333333333333333,
             "#9c179e"
            ],
            [
             0.4444444444444444,
             "#bd3786"
            ],
            [
             0.5555555555555556,
             "#d8576b"
            ],
            [
             0.6666666666666666,
             "#ed7953"
            ],
            [
             0.7777777777777778,
             "#fb9f3a"
            ],
            [
             0.8888888888888888,
             "#fdca26"
            ],
            [
             1.0,
             "#f0f921"
            ]
           ],
           "sequentialminus": [
            [
             0.0,
             "#0d0887"
            ],
            [
             0.1111111111111111,
             "#46039f"
            ],
            [
             0.2222222222222222,
             "#7201a8"
            ],
            [
             0.3333333333333333,
             "#9c179e"
            ],
            [
             0.4444444444444444,
             "#bd3786"
            ],
            [
             0.5555555555555556,
             "#d8576b"
            ],
            [
             0.6666666666666666,
             "#ed7953"
            ],
            [
             0.7777777777777778,
             "#fb9f3a"
            ],
            [
             0.8888888888888888,
             "#fdca26"
            ],
            [
             1.0,
             "#f0f921"
            ]
           ],
           "diverging": [
            [
             0,
             "#8e0152"
            ],
            [
             0.1,
             "#c51b7d"
            ],
            [
             0.2,
             "#de77ae"
            ],
            [
             0.3,
             "#f1b6da"
            ],
            [
             0.4,
             "#fde0ef"
            ],
            [
             0.5,
             "#f7f7f7"
            ],
            [
             0.6,
             "#e6f5d0"
            ],
            [
             0.7,
             "#b8e186"
            ],
            [
             0.8,
             "#7fbc41"
            ],
            [
             0.9,
             "#4d9221"
            ],
            [
             1,
             "#276419"
            ]
           ]
          },
          "xaxis": {
           "gridcolor": "#283442",
           "linecolor": "#506784",
           "ticks": "",
           "title": {
            "standoff": 15
           },
           "zerolinecolor": "#283442",
           "automargin": true,
           "zerolinewidth": 2
          },
          "yaxis": {
           "gridcolor": "#283442",
           "linecolor": "#506784",
           "ticks": "",
           "title": {
            "standoff": 15
           },
           "zerolinecolor": "#283442",
           "automargin": true,
           "zerolinewidth": 2
          },
          "scene": {
           "xaxis": {
            "backgroundcolor": "rgb(17,17,17)",
            "gridcolor": "#506784",
            "linecolor": "#506784",
            "showbackground": true,
            "ticks": "",
            "zerolinecolor": "#C8D4E3",
            "gridwidth": 2
           },
           "yaxis": {
            "backgroundcolor": "rgb(17,17,17)",
            "gridcolor": "#506784",
            "linecolor": "#506784",
            "showbackground": true,
            "ticks": "",
            "zerolinecolor": "#C8D4E3",
            "gridwidth": 2
           },
           "zaxis": {
            "backgroundcolor": "rgb(17,17,17)",
            "gridcolor": "#506784",
            "linecolor": "#506784",
            "showbackground": true,
            "ticks": "",
            "zerolinecolor": "#C8D4E3",
            "gridwidth": 2
           }
          },
          "shapedefaults": {
           "line": {
            "color": "#f2f5fa"
           }
          },
          "annotationdefaults": {
           "arrowcolor": "#f2f5fa",
           "arrowhead": 0,
           "arrowwidth": 1
          },
          "geo": {
           "bgcolor": "rgb(17,17,17)",
           "landcolor": "rgb(17,17,17)",
           "subunitcolor": "#506784",
           "showland": true,
           "showlakes": true,
           "lakecolor": "rgb(17,17,17)"
          },
          "title": {
           "x": 0.05
          },
          "updatemenudefaults": {
           "bgcolor": "#506784",
           "borderwidth": 0
          },
          "sliderdefaults": {
           "bgcolor": "#C8D4E3",
           "borderwidth": 1,
           "bordercolor": "rgb(17,17,17)",
           "tickwidth": 0
          },
          "mapbox": {
           "style": "dark"
          }
         }
        },
        "xaxis": {
         "anchor": "y",
         "domain": [
          0.0,
          1.0
         ],
         "title": {
          "text": "Actual Delay"
         }
        },
        "yaxis": {
         "anchor": "x",
         "domain": [
          0.0,
          1.0
         ],
         "title": {
          "text": "Predicted Delay"
         }
        },
        "legend": {
         "tracegroupgap": 0
        },
        "title": {
         "text": "Predicted vs Actual Arrival Delay"
        },
        "shapes": [
         {
          "line": {
           "dash": "dot"
          },
          "type": "line",
          "x0": -52.0,
          "x1": 527.0,
          "y0": -52.0,
          "y1": 527.0
         }
        ]
       },
       "config": {
        "plotlyServerURL": "https://plot.ly"
       }
      }
     },
     "metadata": {},
     "output_type": "display_data",
     "jetTransient": {
      "display_id": null
     }
    }
   ],
   "execution_count": 271
  },
  {
   "metadata": {
    "ExecuteTime": {
     "end_time": "2025-10-31T11:33:34.308934Z",
     "start_time": "2025-10-31T11:33:34.267959Z"
    }
   },
   "cell_type": "code",
   "source": [
    "df_compare[\"Error (min)\"] = df_compare[\"Actual Delay\"] - df_compare[\"Predicted Delay\"]\n",
    "\n",
    "fig_err = px.histogram(\n",
    "    df_compare,\n",
    "    x=\"Error (min)\",\n",
    "    nbins=60,\n",
    "    title=\"Distribution of Prediction Error (minutes)\",\n",
    ")\n",
    "\n",
    "fig_err.show()"
   ],
   "id": "89f478c132ec9488",
   "outputs": [
    {
     "data": {
      "application/vnd.plotly.v1+json": {
       "data": [
        {
         "bingroup": "x",
         "hovertemplate": "Error (min)=%{x}<br>count=%{y}<extra></extra>",
         "legendgroup": "",
         "marker": {
          "color": "#636efa",
          "pattern": {
           "shape": ""
          }
         },
         "name": "",
         "nbinsx": 60,
         "orientation": "v",
         "showlegend": false,
         "x": {
          "dtype": "f8",
          "bdata": "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"
         },
         "xaxis": "x",
         "yaxis": "y",
         "type": "histogram"
        }
       ],
       "layout": {
        "template": {
         "data": {
          "histogram2dcontour": [
           {
            "type": "histogram2dcontour",
            "colorbar": {
             "outlinewidth": 0,
             "ticks": ""
            },
            "colorscale": [
             [
              0.0,
              "#0d0887"
             ],
             [
              0.1111111111111111,
              "#46039f"
             ],
             [
              0.2222222222222222,
              "#7201a8"
             ],
             [
              0.3333333333333333,
              "#9c179e"
             ],
             [
              0.4444444444444444,
              "#bd3786"
             ],
             [
              0.5555555555555556,
              "#d8576b"
             ],
             [
              0.6666666666666666,
              "#ed7953"
             ],
             [
              0.7777777777777778,
              "#fb9f3a"
             ],
             [
              0.8888888888888888,
              "#fdca26"
             ],
             [
              1.0,
              "#f0f921"
             ]
            ]
           }
          ],
          "choropleth": [
           {
            "type": "choropleth",
            "colorbar": {
             "outlinewidth": 0,
             "ticks": ""
            }
           }
          ],
          "histogram2d": [
           {
            "type": "histogram2d",
            "colorbar": {
             "outlinewidth": 0,
             "ticks": ""
            },
            "colorscale": [
             [
              0.0,
              "#0d0887"
             ],
             [
              0.1111111111111111,
              "#46039f"
             ],
             [
              0.2222222222222222,
              "#7201a8"
             ],
             [
              0.3333333333333333,
              "#9c179e"
             ],
             [
              0.4444444444444444,
              "#bd3786"
             ],
             [
              0.5555555555555556,
              "#d8576b"
             ],
             [
              0.6666666666666666,
              "#ed7953"
             ],
             [
              0.7777777777777778,
              "#fb9f3a"
             ],
             [
              0.8888888888888888,
              "#fdca26"
             ],
             [
              1.0,
              "#f0f921"
             ]
            ]
           }
          ],
          "heatmap": [
           {
            "type": "heatmap",
            "colorbar": {
             "outlinewidth": 0,
             "ticks": ""
            },
            "colorscale": [
             [
              0.0,
              "#0d0887"
             ],
             [
              0.1111111111111111,
              "#46039f"
             ],
             [
              0.2222222222222222,
              "#7201a8"
             ],
             [
              0.3333333333333333,
              "#9c179e"
             ],
             [
              0.4444444444444444,
              "#bd3786"
             ],
             [
              0.5555555555555556,
              "#d8576b"
             ],
             [
              0.6666666666666666,
              "#ed7953"
             ],
             [
              0.7777777777777778,
              "#fb9f3a"
             ],
             [
              0.8888888888888888,
              "#fdca26"
             ],
             [
              1.0,
              "#f0f921"
             ]
            ]
           }
          ],
          "contourcarpet": [
           {
            "type": "contourcarpet",
            "colorbar": {
             "outlinewidth": 0,
             "ticks": ""
            }
           }
          ],
          "contour": [
           {
            "type": "contour",
            "colorbar": {
             "outlinewidth": 0,
             "ticks": ""
            },
            "colorscale": [
             [
              0.0,
              "#0d0887"
             ],
             [
              0.1111111111111111,
              "#46039f"
             ],
             [
              0.2222222222222222,
              "#7201a8"
             ],
             [
              0.3333333333333333,
              "#9c179e"
             ],
             [
              0.4444444444444444,
              "#bd3786"
             ],
             [
              0.5555555555555556,
              "#d8576b"
             ],
             [
              0.6666666666666666,
              "#ed7953"
             ],
             [
              0.7777777777777778,
              "#fb9f3a"
             ],
             [
              0.8888888888888888,
              "#fdca26"
             ],
             [
              1.0,
              "#f0f921"
             ]
            ]
           }
          ],
          "surface": [
           {
            "type": "surface",
            "colorbar": {
             "outlinewidth": 0,
             "ticks": ""
            },
            "colorscale": [
             [
              0.0,
              "#0d0887"
             ],
             [
              0.1111111111111111,
              "#46039f"
             ],
             [
              0.2222222222222222,
              "#7201a8"
             ],
             [
              0.3333333333333333,
              "#9c179e"
             ],
             [
              0.4444444444444444,
              "#bd3786"
             ],
             [
              0.5555555555555556,
              "#d8576b"
             ],
             [
              0.6666666666666666,
              "#ed7953"
             ],
             [
              0.7777777777777778,
              "#fb9f3a"
             ],
             [
              0.8888888888888888,
              "#fdca26"
             ],
             [
              1.0,
              "#f0f921"
             ]
            ]
           }
          ],
          "mesh3d": [
           {
            "type": "mesh3d",
            "colorbar": {
             "outlinewidth": 0,
             "ticks": ""
            }
           }
          ],
          "scatter": [
           {
            "marker": {
             "line": {
              "color": "#283442"
             }
            },
            "type": "scatter"
           }
          ],
          "parcoords": [
           {
            "type": "parcoords",
            "line": {
             "colorbar": {
              "outlinewidth": 0,
              "ticks": ""
             }
            }
           }
          ],
          "scatterpolargl": [
           {
            "type": "scatterpolargl",
            "marker": {
             "colorbar": {
              "outlinewidth": 0,
              "ticks": ""
             }
            }
           }
          ],
          "bar": [
           {
            "error_x": {
             "color": "#f2f5fa"
            },
            "error_y": {
             "color": "#f2f5fa"
            },
            "marker": {
             "line": {
              "color": "rgb(17,17,17)",
              "width": 0.5
             },
             "pattern": {
              "fillmode": "overlay",
              "size": 10,
              "solidity": 0.2
             }
            },
            "type": "bar"
           }
          ],
          "scattergeo": [
           {
            "type": "scattergeo",
            "marker": {
             "colorbar": {
              "outlinewidth": 0,
              "ticks": ""
             }
            }
           }
          ],
          "scatterpolar": [
           {
            "type": "scatterpolar",
            "marker": {
             "colorbar": {
              "outlinewidth": 0,
              "ticks": ""
             }
            }
           }
          ],
          "histogram": [
           {
            "marker": {
             "pattern": {
              "fillmode": "overlay",
              "size": 10,
              "solidity": 0.2
             }
            },
            "type": "histogram"
           }
          ],
          "scattergl": [
           {
            "marker": {
             "line": {
              "color": "#283442"
             }
            },
            "type": "scattergl"
           }
          ],
          "scatter3d": [
           {
            "type": "scatter3d",
            "line": {
             "colorbar": {
              "outlinewidth": 0,
              "ticks": ""
             }
            },
            "marker": {
             "colorbar": {
              "outlinewidth": 0,
              "ticks": ""
             }
            }
           }
          ],
          "scattermap": [
           {
            "type": "scattermap",
            "marker": {
             "colorbar": {
              "outlinewidth": 0,
              "ticks": ""
             }
            }
           }
          ],
          "scattermapbox": [
           {
            "type": "scattermapbox",
            "marker": {
             "colorbar": {
              "outlinewidth": 0,
              "ticks": ""
             }
            }
           }
          ],
          "scatterternary": [
           {
            "type": "scatterternary",
            "marker": {
             "colorbar": {
              "outlinewidth": 0,
              "ticks": ""
             }
            }
           }
          ],
          "scattercarpet": [
           {
            "type": "scattercarpet",
            "marker": {
             "colorbar": {
              "outlinewidth": 0,
              "ticks": ""
             }
            }
           }
          ],
          "carpet": [
           {
            "aaxis": {
             "endlinecolor": "#A2B1C6",
             "gridcolor": "#506784",
             "linecolor": "#506784",
             "minorgridcolor": "#506784",
             "startlinecolor": "#A2B1C6"
            },
            "baxis": {
             "endlinecolor": "#A2B1C6",
             "gridcolor": "#506784",
             "linecolor": "#506784",
             "minorgridcolor": "#506784",
             "startlinecolor": "#A2B1C6"
            },
            "type": "carpet"
           }
          ],
          "table": [
           {
            "cells": {
             "fill": {
              "color": "#506784"
             },
             "line": {
              "color": "rgb(17,17,17)"
             }
            },
            "header": {
             "fill": {
              "color": "#2a3f5f"
             },
             "line": {
              "color": "rgb(17,17,17)"
             }
            },
            "type": "table"
           }
          ],
          "barpolar": [
           {
            "marker": {
             "line": {
              "color": "rgb(17,17,17)",
              "width": 0.5
             },
             "pattern": {
              "fillmode": "overlay",
              "size": 10,
              "solidity": 0.2
             }
            },
            "type": "barpolar"
           }
          ],
          "pie": [
           {
            "automargin": true,
            "type": "pie"
           }
          ]
         },
         "layout": {
          "autotypenumbers": "strict",
          "colorway": [
           "#636efa",
           "#EF553B",
           "#00cc96",
           "#ab63fa",
           "#FFA15A",
           "#19d3f3",
           "#FF6692",
           "#B6E880",
           "#FF97FF",
           "#FECB52"
          ],
          "font": {
           "color": "#f2f5fa"
          },
          "hovermode": "closest",
          "hoverlabel": {
           "align": "left"
          },
          "paper_bgcolor": "rgb(17,17,17)",
          "plot_bgcolor": "rgb(17,17,17)",
          "polar": {
           "bgcolor": "rgb(17,17,17)",
           "angularaxis": {
            "gridcolor": "#506784",
            "linecolor": "#506784",
            "ticks": ""
           },
           "radialaxis": {
            "gridcolor": "#506784",
            "linecolor": "#506784",
            "ticks": ""
           }
          },
          "ternary": {
           "bgcolor": "rgb(17,17,17)",
           "aaxis": {
            "gridcolor": "#506784",
            "linecolor": "#506784",
            "ticks": ""
           },
           "baxis": {
            "gridcolor": "#506784",
            "linecolor": "#506784",
            "ticks": ""
           },
           "caxis": {
            "gridcolor": "#506784",
            "linecolor": "#506784",
            "ticks": ""
           }
          },
          "coloraxis": {
           "colorbar": {
            "outlinewidth": 0,
            "ticks": ""
           }
          },
          "colorscale": {
           "sequential": [
            [
             0.0,
             "#0d0887"
            ],
            [
             0.1111111111111111,
             "#46039f"
            ],
            [
             0.2222222222222222,
             "#7201a8"
            ],
            [
             0.3333333333333333,
             "#9c179e"
            ],
            [
             0.4444444444444444,
             "#bd3786"
            ],
            [
             0.5555555555555556,
             "#d8576b"
            ],
            [
             0.6666666666666666,
             "#ed7953"
            ],
            [
             0.7777777777777778,
             "#fb9f3a"
            ],
            [
             0.8888888888888888,
             "#fdca26"
            ],
            [
             1.0,
             "#f0f921"
            ]
           ],
           "sequentialminus": [
            [
             0.0,
             "#0d0887"
            ],
            [
             0.1111111111111111,
             "#46039f"
            ],
            [
             0.2222222222222222,
             "#7201a8"
            ],
            [
             0.3333333333333333,
             "#9c179e"
            ],
            [
             0.4444444444444444,
             "#bd3786"
            ],
            [
             0.5555555555555556,
             "#d8576b"
            ],
            [
             0.6666666666666666,
             "#ed7953"
            ],
            [
             0.7777777777777778,
             "#fb9f3a"
            ],
            [
             0.8888888888888888,
             "#fdca26"
            ],
            [
             1.0,
             "#f0f921"
            ]
           ],
           "diverging": [
            [
             0,
             "#8e0152"
            ],
            [
             0.1,
             "#c51b7d"
            ],
            [
             0.2,
             "#de77ae"
            ],
            [
             0.3,
             "#f1b6da"
            ],
            [
             0.4,
             "#fde0ef"
            ],
            [
             0.5,
             "#f7f7f7"
            ],
            [
             0.6,
             "#e6f5d0"
            ],
            [
             0.7,
             "#b8e186"
            ],
            [
             0.8,
             "#7fbc41"
            ],
            [
             0.9,
             "#4d9221"
            ],
            [
             1,
             "#276419"
            ]
           ]
          },
          "xaxis": {
           "gridcolor": "#283442",
           "linecolor": "#506784",
           "ticks": "",
           "title": {
            "standoff": 15
           },
           "zerolinecolor": "#283442",
           "automargin": true,
           "zerolinewidth": 2
          },
          "yaxis": {
           "gridcolor": "#283442",
           "linecolor": "#506784",
           "ticks": "",
           "title": {
            "standoff": 15
           },
           "zerolinecolor": "#283442",
           "automargin": true,
           "zerolinewidth": 2
          },
          "scene": {
           "xaxis": {
            "backgroundcolor": "rgb(17,17,17)",
            "gridcolor": "#506784",
            "linecolor": "#506784",
            "showbackground": true,
            "ticks": "",
            "zerolinecolor": "#C8D4E3",
            "gridwidth": 2
           },
           "yaxis": {
            "backgroundcolor": "rgb(17,17,17)",
            "gridcolor": "#506784",
            "linecolor": "#506784",
            "showbackground": true,
            "ticks": "",
            "zerolinecolor": "#C8D4E3",
            "gridwidth": 2
           },
           "zaxis": {
            "backgroundcolor": "rgb(17,17,17)",
            "gridcolor": "#506784",
            "linecolor": "#506784",
            "showbackground": true,
            "ticks": "",
            "zerolinecolor": "#C8D4E3",
            "gridwidth": 2
           }
          },
          "shapedefaults": {
           "line": {
            "color": "#f2f5fa"
           }
          },
          "annotationdefaults": {
           "arrowcolor": "#f2f5fa",
           "arrowhead": 0,
           "arrowwidth": 1
          },
          "geo": {
           "bgcolor": "rgb(17,17,17)",
           "landcolor": "rgb(17,17,17)",
           "subunitcolor": "#506784",
           "showland": true,
           "showlakes": true,
           "lakecolor": "rgb(17,17,17)"
          },
          "title": {
           "x": 0.05
          },
          "updatemenudefaults": {
           "bgcolor": "#506784",
           "borderwidth": 0
          },
          "sliderdefaults": {
           "bgcolor": "#C8D4E3",
           "borderwidth": 1,
           "bordercolor": "rgb(17,17,17)",
           "tickwidth": 0
          },
          "mapbox": {
           "style": "dark"
          }
         }
        },
        "xaxis": {
         "anchor": "y",
         "domain": [
          0.0,
          1.0
         ],
         "title": {
          "text": "Error (min)"
         }
        },
        "yaxis": {
         "anchor": "x",
         "domain": [
          0.0,
          1.0
         ],
         "title": {
          "text": "count"
         }
        },
        "legend": {
         "tracegroupgap": 0
        },
        "title": {
         "text": "Distribution of Prediction Error (minutes)"
        },
        "barmode": "relative"
       },
       "config": {
        "plotlyServerURL": "https://plot.ly"
       }
      }
     },
     "metadata": {},
     "output_type": "display_data",
     "jetTransient": {
      "display_id": null
     }
    }
   ],
   "execution_count": 270
  }
 ],
 "metadata": {
  "kernelspec": {
   "display_name": "Python 3",
   "language": "python",
   "name": "python3"
  },
  "language_info": {
   "codemirror_mode": {
    "name": "ipython",
    "version": 2
   },
   "file_extension": ".py",
   "mimetype": "text/x-python",
   "name": "python",
   "nbconvert_exporter": "python",
   "pygments_lexer": "ipython2",
   "version": "2.7.6"
  }
 },
 "nbformat": 4,
 "nbformat_minor": 5
}
